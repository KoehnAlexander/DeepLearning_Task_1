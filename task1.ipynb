{
 "cells": [
  {
   "cell_type": "markdown",
   "source": [
    "# Recommender Network for Movies\n",
    "by Alexander Köhn"
   ],
   "metadata": {
    "collapsed": false
   }
  },
  {
   "cell_type": "markdown",
   "source": [
    "## Information for the tester\n",
    "In the following my whole Software contribution is shown via a Jupyter notebook. My Final Report is included during the Notebook at the relevant parts of my code.\n",
    "The summary of the tutorials are in an extra file in my repository."
   ],
   "metadata": {
    "collapsed": false
   }
  },
  {
   "cell_type": "markdown",
   "source": [
    "## Credits\n",
    "I got information for this project from the Tutorial (https://keras.io/examples/structured_data/collaborative_filtering_movielens/) and (https://www.tensorflow.org/recommenders/examples/basic_retrieval)"
   ],
   "metadata": {
    "collapsed": false
   }
  },
  {
   "cell_type": "markdown",
   "source": [
    "## Project Goal and underlying topic\n",
    "The Project Goal is to implement a recommender system for love pairs, which want to watch a movie together during the winter holidays. The motivation is to reduce the time couples spend searching for the right movie.\n",
    "Common Platforms use recommender systems with the data of the signed account. These Systems are not achieving the best results, if the account is most often used alone by one person and just used sometimes to watch movies together.\n",
    "Implementing a recommender system with the input of two people, which want to watch a movie together, and a output of movies, which are good for both of them, is the Goal.\n",
    "\n",
    "Additionally we want to have some more features.\n",
    "1. We can decide which users interest is more important for the network.\n",
    "2. We can decide if the network should recommend a movie they will likely watch (Retrieval) or they will likely like (Ranking)"
   ],
   "metadata": {
    "collapsed": false
   }
  },
  {
   "cell_type": "markdown",
   "source": [
    "## Inputs\n",
    "First we need some Packages for building the network and analysing the data."
   ],
   "metadata": {
    "collapsed": false
   }
  },
  {
   "cell_type": "code",
   "execution_count": 1,
   "outputs": [
    {
     "name": "stdout",
     "output_type": "stream",
     "text": [
      "Note: you may need to restart the kernel to use updated packages.\n"
     ]
    },
    {
     "name": "stderr",
     "output_type": "stream",
     "text": [
      "WARNING: You are using pip version 21.1.2; however, version 22.3.1 is available.\n",
      "You should consider upgrading via the 'c:\\users\\koehn\\pycharmprojects\\pythonproject\\venv\\scripts\\python.exe -m pip install --upgrade pip' command.\n"
     ]
    },
    {
     "name": "stdout",
     "output_type": "stream",
     "text": [
      "Note: you may need to restart the kernel to use updated packages.\n"
     ]
    },
    {
     "name": "stderr",
     "output_type": "stream",
     "text": [
      "WARNING: You are using pip version 21.1.2; however, version 22.3.1 is available.\n",
      "You should consider upgrading via the 'c:\\users\\koehn\\pycharmprojects\\pythonproject\\venv\\scripts\\python.exe -m pip install --upgrade pip' command.\n"
     ]
    },
    {
     "name": "stdout",
     "output_type": "stream",
     "text": [
      "Note: you may need to restart the kernel to use updated packages.\n"
     ]
    },
    {
     "name": "stderr",
     "output_type": "stream",
     "text": [
      "ERROR: Could not find a version that satisfies the requirement scann (from versions: none)\n",
      "ERROR: No matching distribution found for scann\n",
      "WARNING: You are using pip version 21.1.2; however, version 22.3.1 is available.\n",
      "You should consider upgrading via the 'c:\\users\\koehn\\pycharmprojects\\pythonproject\\venv\\scripts\\python.exe -m pip install --upgrade pip' command.\n"
     ]
    }
   ],
   "source": [
    "%pip install -q tensorflow-recommenders\n",
    "%pip install -q --upgrade tensorflow-datasets\n",
    "%pip install -q scann"
   ],
   "metadata": {
    "collapsed": false
   }
  },
  {
   "cell_type": "code",
   "execution_count": 2,
   "outputs": [],
   "source": [
    "import os\n",
    "import pprint\n",
    "import tempfile\n",
    "\n",
    "from typing import Dict, Text\n",
    "\n",
    "import numpy as np\n",
    "import tensorflow as tf\n",
    "import tensorflow_datasets as tfds\n",
    "import tensorflow_recommenders as tfrs\n",
    "\n",
    "import pandas as pd\n",
    "import matplotlib.pyplot as plt"
   ],
   "metadata": {
    "collapsed": false
   }
  },
  {
   "cell_type": "markdown",
   "source": [
    "## Data\n",
    "We are using the Movielens 100K Dataset, which features a set with 100,000 ratings (1-5) from 943 users on 1682 movies. Tensorflow already provides a method to download the Dataset to the hard disk. After the first download the dataset from the disk will be used."
   ],
   "metadata": {
    "collapsed": false
   }
  },
  {
   "cell_type": "code",
   "execution_count": 3,
   "metadata": {
    "collapsed": true
   },
   "outputs": [],
   "source": [
    "# Ratings data.\n",
    "ratings = tfds.load(\"movielens/100k-ratings\", split=\"train\")\n",
    "# Features of all the available movies.\n",
    "movies = tfds.load(\"movielens/100k-movies\", split=\"train\")"
   ]
  },
  {
   "cell_type": "markdown",
   "source": [
    "As you can see, each rating consists of a movie with specific genres and a user with demographic information."
   ],
   "metadata": {
    "collapsed": false
   }
  },
  {
   "cell_type": "code",
   "execution_count": 4,
   "outputs": [
    {
     "name": "stdout",
     "output_type": "stream",
     "text": [
      "{'bucketized_user_age': 45.0,\n",
      " 'movie_genres': array([7], dtype=int64),\n",
      " 'movie_id': b'357',\n",
      " 'movie_title': b\"One Flew Over the Cuckoo's Nest (1975)\",\n",
      " 'raw_user_age': 46.0,\n",
      " 'timestamp': 879024327,\n",
      " 'user_gender': True,\n",
      " 'user_id': b'138',\n",
      " 'user_occupation_label': 4,\n",
      " 'user_occupation_text': b'doctor',\n",
      " 'user_rating': 4.0,\n",
      " 'user_zip_code': b'53211'}\n"
     ]
    }
   ],
   "source": [
    "for x in ratings.take(1).as_numpy_iterator():\n",
    "  pprint.pprint(x)"
   ],
   "metadata": {
    "collapsed": false
   }
  },
  {
   "cell_type": "markdown",
   "source": [],
   "metadata": {
    "collapsed": false
   }
  },
  {
   "cell_type": "code",
   "execution_count": 5,
   "outputs": [
    {
     "name": "stdout",
     "output_type": "stream",
     "text": [
      "{'movie_genres': array([4], dtype=int64),\n",
      " 'movie_id': b'1681',\n",
      " 'movie_title': b'You So Crazy (1994)'}\n"
     ]
    }
   ],
   "source": [
    "for x in movies.take(1).as_numpy_iterator():\n",
    "  pprint.pprint(x)"
   ],
   "metadata": {
    "collapsed": false
   }
  },
  {
   "cell_type": "markdown",
   "source": [
    "## Analaysis of the data\n",
    "We can gain a better intuition for the dataset if we gather information about statistical information of the dataset.\n"
   ],
   "metadata": {
    "collapsed": false
   }
  },
  {
   "cell_type": "code",
   "execution_count": 5,
   "outputs": [],
   "source": [],
   "metadata": {
    "collapsed": false
   }
  },
  {
   "cell_type": "markdown",
   "source": [
    "## Prepocessing of the data\n"
   ],
   "metadata": {
    "collapsed": false
   }
  },
  {
   "cell_type": "markdown",
   "source": [
    "To simplify our model we will only use the user_id, movie_title and the user_rating from the Dataset."
   ],
   "metadata": {
    "collapsed": false
   }
  },
  {
   "cell_type": "code",
   "execution_count": 6,
   "outputs": [],
   "source": [
    "ratings = ratings.map(lambda x: {\n",
    "    \"movie_title\": x[\"movie_title\"],\n",
    "    \"user_id\": x[\"user_id\"],\n",
    "    \"user_rating\": x[\"user_rating\"],\n",
    "})\n",
    "movies = movies.map(lambda x: x[\"movie_title\"])"
   ],
   "metadata": {
    "collapsed": false
   }
  },
  {
   "cell_type": "markdown",
   "source": [
    "We are shuffling the data of the rating to randomize the learning and to avoid a bias in the train and test data."
   ],
   "metadata": {
    "collapsed": false
   }
  },
  {
   "cell_type": "code",
   "execution_count": 7,
   "outputs": [],
   "source": [
    "tf.random.set_seed(37)\n",
    "shuffled = ratings.shuffle(100_000, seed=37, reshuffle_each_iteration=True)"
   ],
   "metadata": {
    "collapsed": false
   }
  },
  {
   "cell_type": "markdown",
   "source": [
    "We are dividing the dataset in 80 % train data and 20% test data."
   ],
   "metadata": {
    "collapsed": false
   }
  },
  {
   "cell_type": "code",
   "execution_count": 8,
   "outputs": [],
   "source": [
    "train = shuffled.take(80_000)\n",
    "test = shuffled.skip(80_000).take(20_000)"
   ],
   "metadata": {
    "collapsed": false
   }
  },
  {
   "cell_type": "markdown",
   "source": [
    "Now we want to get two lists. The first list unique_movie_titles consists of all the movie titles, but every title is only saved once in the list. The second list unique_user_ids consists of all the users, in the same was as the first."
   ],
   "metadata": {
    "collapsed": false
   }
  },
  {
   "cell_type": "code",
   "execution_count": 9,
   "outputs": [
    {
     "name": "stdout",
     "output_type": "stream",
     "text": [
      "First 10 Movie titles: \n",
      "[b\"'Til There Was You (1997)\" b'1-900 (1994)' b'101 Dalmatians (1996)'\n",
      " b'12 Angry Men (1957)' b'187 (1997)' b'2 Days in the Valley (1996)'\n",
      " b'20,000 Leagues Under the Sea (1954)' b'2001: A Space Odyssey (1968)'\n",
      " b'3 Ninjas: High Noon At Mega Mountain (1998)' b'39 Steps, The (1935)']\n",
      "\n",
      "The total count of users:  943\n",
      "The total count of movies:  1664\n"
     ]
    }
   ],
   "source": [
    "movie_titles = movies.batch(1_000)\n",
    "user_ids = ratings.batch(1_000_000).map(lambda y: y[\"user_id\"])\n",
    "\n",
    "unique_movie_titles = np.unique(np.concatenate(list(movie_titles)))\n",
    "unique_user_ids = np.unique(np.concatenate(list(user_ids)))\n",
    "\n",
    "print(\"First 10 Movie titles: \")\n",
    "print(unique_movie_titles[:10])\n",
    "\n",
    "print(\"\\nThe total count of users: \", len(unique_user_ids))\n",
    "print(\"The total count of movies: \", len(unique_movie_titles))"
   ],
   "metadata": {
    "collapsed": false
   }
  },
  {
   "cell_type": "markdown",
   "source": [
    "## Architecture of our model\n",
    "The Goal is to give the"
   ],
   "metadata": {
    "collapsed": false
   }
  },
  {
   "cell_type": "markdown",
   "source": [],
   "metadata": {
    "collapsed": false
   }
  },
  {
   "cell_type": "code",
   "execution_count": 10,
   "outputs": [],
   "source": [
    "class MovielensModel(tfrs.models.Model):\n",
    "\n",
    "    def __init__(self):\n",
    "        super().__init__()\n",
    "        embedding_dimension = 32\n",
    "\n",
    "        # Compute embeddings for users.\n",
    "        self.user_embeddings = tf.keras.Sequential([\n",
    "            tf.keras.layers.StringLookup(\n",
    "                vocabulary=unique_user_ids, mask_token=None),\n",
    "            tf.keras.layers.Embedding(len(unique_user_ids) + 1, embedding_dimension)\n",
    "        ])\n",
    "\n",
    "        # Compute embeddings for movies.\n",
    "        self.movie_embeddings = tf.keras.Sequential([\n",
    "            tf.keras.layers.StringLookup(\n",
    "                vocabulary=unique_movie_titles, mask_token=None),\n",
    "            tf.keras.layers.Embedding(len(unique_movie_titles) + 1, embedding_dimension)\n",
    "        ])\n",
    "\n",
    "        # Compute predictions.\n",
    "        self.ratings = tf.keras.Sequential([\n",
    "            # Learn multiple dense layers.\n",
    "            tf.keras.layers.Dense(256, activation=\"relu\"),\n",
    "            tf.keras.layers.Dense(64, activation=\"relu\"),\n",
    "            # Make rating predictions in the final layer.\n",
    "            tf.keras.layers.Dense(1)\n",
    "        ])\n",
    "\n",
    "        self.task: tf.keras.layers.Layer = tfrs.tasks.Ranking(\n",
    "            loss=tf.keras.losses.MeanSquaredError(),\n",
    "            metrics=[tf.keras.metrics.RootMeanSquaredError()]\n",
    "        )\n",
    "\n",
    "    def call(self, features: Dict[str, tf.Tensor]) -> tf.Tensor:\n",
    "        user_id = features[\"user_id\"]\n",
    "        movie_title = features[\"movie_title\"]\n",
    "\n",
    "        user_embedding = self.user_embeddings(user_id)\n",
    "        movie_embedding = self.movie_embeddings(movie_title)\n",
    "\n",
    "        return self.ratings(tf.concat([user_embedding, movie_embedding], axis=1))\n",
    "\n",
    "    def compute_loss(self, features: Dict[Text, tf.Tensor], training=False) -> tf.Tensor:\n",
    "        labels = features.pop(\"user_rating\")\n",
    "\n",
    "        rating_predictions = self(features)\n",
    "\n",
    "        # The task computes the loss and the metrics.\n",
    "        return self.task(labels=labels, predictions=rating_predictions)\n",
    "\n",
    "    def couple_movie_recommendation(self, user_id_1, user_id_2, movie_list):\n",
    "        test_ratings_1 = {}\n",
    "        test_ratings_2 = {}\n",
    "        test_ratings_combined = {}\n",
    "        for movie_title in movie_list:\n",
    "            test_ratings_1[movie_title] = self({\n",
    "                \"user_id\": user_id_1,\n",
    "                \"movie_title\": np.array([movie_title])\n",
    "            })\n",
    "            test_ratings_2[movie_title] = self({\n",
    "                \"user_id\": user_id_2,\n",
    "                \"movie_title\": np.array([movie_title])\n",
    "            })\n",
    "            test_ratings_combined[movie_title] = (test_ratings_1[movie_title] + test_ratings_2[movie_title]) / 2\n",
    "\n",
    "        test_ratings_combined = sorted(test_ratings_combined.items(), key=lambda x: x[1], reverse=True)\n",
    "        print(\"Recommendation for the two users: \\n\")\n",
    "        for title, score in test_ratings_combined[:10]:\n",
    "            print(f\"{title}: {score}\")\n"
   ],
   "metadata": {
    "collapsed": false
   }
  },
  {
   "cell_type": "markdown",
   "source": [
    "\n",
    "## Building our model"
   ],
   "metadata": {
    "collapsed": false
   }
  },
  {
   "cell_type": "code",
   "execution_count": 11,
   "outputs": [],
   "source": [
    "model = MovielensModel()\n",
    "model.compile(optimizer=tf.keras.optimizers.Adagrad(learning_rate=0.1))"
   ],
   "metadata": {
    "collapsed": false
   }
  },
  {
   "cell_type": "code",
   "execution_count": 12,
   "outputs": [],
   "source": [
    "cached_train = train.shuffle(100_000).batch(65536).cache()\n",
    "cached_test = test.batch(16384).cache()"
   ],
   "metadata": {
    "collapsed": false
   }
  },
  {
   "cell_type": "code",
   "execution_count": 13,
   "outputs": [
    {
     "name": "stdout",
     "output_type": "stream",
     "text": [
      "Epoch 1/50\n",
      "2/2 [==============================] - 3s 803ms/step - root_mean_squared_error: 3.5475 - loss: 9.6453 - regularization_loss: 0.0000e+00 - total_loss: 9.6453 - val_root_mean_squared_error: 1.7336 - val_loss: 3.0293 - val_regularization_loss: 0.0000e+00 - val_total_loss: 3.0293\n",
      "Epoch 2/50\n",
      "2/2 [==============================] - 0s 47ms/step - root_mean_squared_error: 1.9529 - loss: 6.0459 - regularization_loss: 0.0000e+00 - total_loss: 6.0459 - val_root_mean_squared_error: 1.5010 - val_loss: 2.2243 - val_regularization_loss: 0.0000e+00 - val_total_loss: 2.2243\n",
      "Epoch 3/50\n",
      "2/2 [==============================] - 0s 47ms/step - root_mean_squared_error: 1.4804 - loss: 2.0479 - regularization_loss: 0.0000e+00 - total_loss: 2.0479 - val_root_mean_squared_error: 1.6932 - val_loss: 2.8317 - val_regularization_loss: 0.0000e+00 - val_total_loss: 2.8317\n",
      "Epoch 4/50\n",
      "2/2 [==============================] - 0s 47ms/step - root_mean_squared_error: 1.6111 - loss: 1.8834 - regularization_loss: 0.0000e+00 - total_loss: 1.8834 - val_root_mean_squared_error: 1.2252 - val_loss: 1.4845 - val_regularization_loss: 0.0000e+00 - val_total_loss: 1.4845\n",
      "Epoch 5/50\n",
      "2/2 [==============================] - 0s 47ms/step - root_mean_squared_error: 1.2117 - loss: 1.4096 - regularization_loss: 0.0000e+00 - total_loss: 1.4096 - val_root_mean_squared_error: 1.2034 - val_loss: 1.4330 - val_regularization_loss: 0.0000e+00 - val_total_loss: 1.4330\n",
      "Epoch 6/50\n",
      "2/2 [==============================] - 0s 50ms/step - root_mean_squared_error: 1.1909 - loss: 1.3680 - regularization_loss: 0.0000e+00 - total_loss: 1.3680 - val_root_mean_squared_error: 1.1790 - val_loss: 1.3769 - val_regularization_loss: 0.0000e+00 - val_total_loss: 1.3769\n",
      "Epoch 7/50\n",
      "2/2 [==============================] - 0s 62ms/step - root_mean_squared_error: 1.1680 - loss: 1.3258 - regularization_loss: 0.0000e+00 - total_loss: 1.3258 - val_root_mean_squared_error: 1.1588 - val_loss: 1.3314 - val_regularization_loss: 0.0000e+00 - val_total_loss: 1.3314\n",
      "Epoch 8/50\n",
      "2/2 [==============================] - 0s 47ms/step - root_mean_squared_error: 1.1489 - loss: 1.2909 - regularization_loss: 0.0000e+00 - total_loss: 1.2909 - val_root_mean_squared_error: 1.1438 - val_loss: 1.2987 - val_regularization_loss: 0.0000e+00 - val_total_loss: 1.2987\n",
      "Epoch 9/50\n",
      "2/2 [==============================] - 0s 48ms/step - root_mean_squared_error: 1.1346 - loss: 1.2646 - regularization_loss: 0.0000e+00 - total_loss: 1.2646 - val_root_mean_squared_error: 1.1334 - val_loss: 1.2765 - val_regularization_loss: 0.0000e+00 - val_total_loss: 1.2765\n",
      "Epoch 10/50\n",
      "2/2 [==============================] - 0s 47ms/step - root_mean_squared_error: 1.1246 - loss: 1.2456 - regularization_loss: 0.0000e+00 - total_loss: 1.2456 - val_root_mean_squared_error: 1.1263 - val_loss: 1.2621 - val_regularization_loss: 0.0000e+00 - val_total_loss: 1.2621\n",
      "Epoch 11/50\n",
      "2/2 [==============================] - 0s 62ms/step - root_mean_squared_error: 1.1177 - loss: 1.2323 - regularization_loss: 0.0000e+00 - total_loss: 1.2323 - val_root_mean_squared_error: 1.1217 - val_loss: 1.2531 - val_regularization_loss: 0.0000e+00 - val_total_loss: 1.2531\n",
      "Epoch 12/50\n",
      "2/2 [==============================] - 0s 70ms/step - root_mean_squared_error: 1.1132 - loss: 1.2234 - regularization_loss: 0.0000e+00 - total_loss: 1.2234 - val_root_mean_squared_error: 1.1189 - val_loss: 1.2482 - val_regularization_loss: 0.0000e+00 - val_total_loss: 1.2482\n",
      "Epoch 13/50\n",
      "2/2 [==============================] - 0s 47ms/step - root_mean_squared_error: 1.1104 - loss: 1.2179 - regularization_loss: 0.0000e+00 - total_loss: 1.2179 - val_root_mean_squared_error: 1.1175 - val_loss: 1.2463 - val_regularization_loss: 0.0000e+00 - val_total_loss: 1.2463\n",
      "Epoch 14/50\n",
      "2/2 [==============================] - 0s 47ms/step - root_mean_squared_error: 1.1090 - loss: 1.2153 - regularization_loss: 0.0000e+00 - total_loss: 1.2153 - val_root_mean_squared_error: 1.1173 - val_loss: 1.2472 - val_regularization_loss: 0.0000e+00 - val_total_loss: 1.2472\n",
      "Epoch 15/50\n",
      "2/2 [==============================] - 0s 50ms/step - root_mean_squared_error: 1.1088 - loss: 1.2157 - regularization_loss: 0.0000e+00 - total_loss: 1.2157 - val_root_mean_squared_error: 1.1183 - val_loss: 1.2506 - val_regularization_loss: 0.0000e+00 - val_total_loss: 1.2506\n",
      "Epoch 16/50\n",
      "2/2 [==============================] - 0s 47ms/step - root_mean_squared_error: 1.1099 - loss: 1.2188 - regularization_loss: 0.0000e+00 - total_loss: 1.2188 - val_root_mean_squared_error: 1.1201 - val_loss: 1.2559 - val_regularization_loss: 0.0000e+00 - val_total_loss: 1.2559\n",
      "Epoch 17/50\n",
      "2/2 [==============================] - 0s 47ms/step - root_mean_squared_error: 1.1119 - loss: 1.2242 - regularization_loss: 0.0000e+00 - total_loss: 1.2242 - val_root_mean_squared_error: 1.1222 - val_loss: 1.2618 - val_regularization_loss: 0.0000e+00 - val_total_loss: 1.2618\n",
      "Epoch 18/50\n",
      "2/2 [==============================] - 0s 37ms/step - root_mean_squared_error: 1.1141 - loss: 1.2301 - regularization_loss: 0.0000e+00 - total_loss: 1.2301 - val_root_mean_squared_error: 1.1234 - val_loss: 1.2657 - val_regularization_loss: 0.0000e+00 - val_total_loss: 1.2657\n",
      "Epoch 19/50\n",
      "2/2 [==============================] - 0s 47ms/step - root_mean_squared_error: 1.1155 - loss: 1.2339 - regularization_loss: 0.0000e+00 - total_loss: 1.2339 - val_root_mean_squared_error: 1.1236 - val_loss: 1.2670 - val_regularization_loss: 0.0000e+00 - val_total_loss: 1.2670\n",
      "Epoch 20/50\n",
      "2/2 [==============================] - 0s 62ms/step - root_mean_squared_error: 1.1158 - loss: 1.2348 - regularization_loss: 0.0000e+00 - total_loss: 1.2348 - val_root_mean_squared_error: 1.1225 - val_loss: 1.2652 - val_regularization_loss: 0.0000e+00 - val_total_loss: 1.2652\n",
      "Epoch 21/50\n",
      "2/2 [==============================] - 0s 78ms/step - root_mean_squared_error: 1.1146 - loss: 1.2322 - regularization_loss: 0.0000e+00 - total_loss: 1.2322 - val_root_mean_squared_error: 1.1198 - val_loss: 1.2600 - val_regularization_loss: 0.0000e+00 - val_total_loss: 1.2600\n",
      "Epoch 22/50\n",
      "2/2 [==============================] - 0s 62ms/step - root_mean_squared_error: 1.1120 - loss: 1.2256 - regularization_loss: 0.0000e+00 - total_loss: 1.2256 - val_root_mean_squared_error: 1.1159 - val_loss: 1.2519 - val_regularization_loss: 0.0000e+00 - val_total_loss: 1.2519\n",
      "Epoch 23/50\n",
      "2/2 [==============================] - 0s 76ms/step - root_mean_squared_error: 1.1080 - loss: 1.2159 - regularization_loss: 0.0000e+00 - total_loss: 1.2159 - val_root_mean_squared_error: 1.1110 - val_loss: 1.2416 - val_regularization_loss: 0.0000e+00 - val_total_loss: 1.2416\n",
      "Epoch 24/50\n",
      "2/2 [==============================] - 0s 78ms/step - root_mean_squared_error: 1.1030 - loss: 1.2039 - regularization_loss: 0.0000e+00 - total_loss: 1.2039 - val_root_mean_squared_error: 1.1055 - val_loss: 1.2299 - val_regularization_loss: 0.0000e+00 - val_total_loss: 1.2299\n",
      "Epoch 25/50\n",
      "2/2 [==============================] - 0s 62ms/step - root_mean_squared_error: 1.0975 - loss: 1.1907 - regularization_loss: 0.0000e+00 - total_loss: 1.1907 - val_root_mean_squared_error: 1.0996 - val_loss: 1.2174 - val_regularization_loss: 0.0000e+00 - val_total_loss: 1.2174\n",
      "Epoch 26/50\n",
      "2/2 [==============================] - 0s 62ms/step - root_mean_squared_error: 1.0915 - loss: 1.1768 - regularization_loss: 0.0000e+00 - total_loss: 1.1768 - val_root_mean_squared_error: 1.0937 - val_loss: 1.2048 - val_regularization_loss: 0.0000e+00 - val_total_loss: 1.2048\n",
      "Epoch 27/50\n",
      "2/2 [==============================] - 0s 62ms/step - root_mean_squared_error: 1.0855 - loss: 1.1630 - regularization_loss: 0.0000e+00 - total_loss: 1.1630 - val_root_mean_squared_error: 1.0877 - val_loss: 1.1922 - val_regularization_loss: 0.0000e+00 - val_total_loss: 1.1922\n",
      "Epoch 28/50\n",
      "2/2 [==============================] - 0s 62ms/step - root_mean_squared_error: 1.0796 - loss: 1.1494 - regularization_loss: 0.0000e+00 - total_loss: 1.1494 - val_root_mean_squared_error: 1.0818 - val_loss: 1.1801 - val_regularization_loss: 0.0000e+00 - val_total_loss: 1.1801\n",
      "Epoch 29/50\n",
      "2/2 [==============================] - 0s 78ms/step - root_mean_squared_error: 1.0738 - loss: 1.1364 - regularization_loss: 0.0000e+00 - total_loss: 1.1364 - val_root_mean_squared_error: 1.0761 - val_loss: 1.1683 - val_regularization_loss: 0.0000e+00 - val_total_loss: 1.1683\n",
      "Epoch 30/50\n",
      "2/2 [==============================] - 0s 86ms/step - root_mean_squared_error: 1.0682 - loss: 1.1239 - regularization_loss: 0.0000e+00 - total_loss: 1.1239 - val_root_mean_squared_error: 1.0706 - val_loss: 1.1570 - val_regularization_loss: 0.0000e+00 - val_total_loss: 1.1570\n",
      "Epoch 31/50\n",
      "2/2 [==============================] - 0s 62ms/step - root_mean_squared_error: 1.0628 - loss: 1.1119 - regularization_loss: 0.0000e+00 - total_loss: 1.1119 - val_root_mean_squared_error: 1.0653 - val_loss: 1.1461 - val_regularization_loss: 0.0000e+00 - val_total_loss: 1.1461\n",
      "Epoch 32/50\n",
      "2/2 [==============================] - 0s 62ms/step - root_mean_squared_error: 1.0576 - loss: 1.1005 - regularization_loss: 0.0000e+00 - total_loss: 1.1005 - val_root_mean_squared_error: 1.0601 - val_loss: 1.1356 - val_regularization_loss: 0.0000e+00 - val_total_loss: 1.1356\n",
      "Epoch 33/50\n",
      "2/2 [==============================] - 0s 78ms/step - root_mean_squared_error: 1.0525 - loss: 1.0895 - regularization_loss: 0.0000e+00 - total_loss: 1.0895 - val_root_mean_squared_error: 1.0552 - val_loss: 1.1255 - val_regularization_loss: 0.0000e+00 - val_total_loss: 1.1255\n",
      "Epoch 34/50\n",
      "2/2 [==============================] - 0s 78ms/step - root_mean_squared_error: 1.0477 - loss: 1.0790 - regularization_loss: 0.0000e+00 - total_loss: 1.0790 - val_root_mean_squared_error: 1.0503 - val_loss: 1.1158 - val_regularization_loss: 0.0000e+00 - val_total_loss: 1.1158\n",
      "Epoch 35/50\n",
      "2/2 [==============================] - 0s 78ms/step - root_mean_squared_error: 1.0431 - loss: 1.0689 - regularization_loss: 0.0000e+00 - total_loss: 1.0689 - val_root_mean_squared_error: 1.0457 - val_loss: 1.1065 - val_regularization_loss: 0.0000e+00 - val_total_loss: 1.1065\n",
      "Epoch 36/50\n",
      "2/2 [==============================] - 0s 62ms/step - root_mean_squared_error: 1.0386 - loss: 1.0593 - regularization_loss: 0.0000e+00 - total_loss: 1.0593 - val_root_mean_squared_error: 1.0413 - val_loss: 1.0976 - val_regularization_loss: 0.0000e+00 - val_total_loss: 1.0976\n",
      "Epoch 37/50\n",
      "2/2 [==============================] - 0s 86ms/step - root_mean_squared_error: 1.0343 - loss: 1.0501 - regularization_loss: 0.0000e+00 - total_loss: 1.0501 - val_root_mean_squared_error: 1.0370 - val_loss: 1.0890 - val_regularization_loss: 0.0000e+00 - val_total_loss: 1.0890\n",
      "Epoch 38/50\n",
      "2/2 [==============================] - 0s 62ms/step - root_mean_squared_error: 1.0303 - loss: 1.0413 - regularization_loss: 0.0000e+00 - total_loss: 1.0413 - val_root_mean_squared_error: 1.0329 - val_loss: 1.0807 - val_regularization_loss: 0.0000e+00 - val_total_loss: 1.0807\n",
      "Epoch 39/50\n",
      "2/2 [==============================] - 0s 64ms/step - root_mean_squared_error: 1.0263 - loss: 1.0329 - regularization_loss: 0.0000e+00 - total_loss: 1.0329 - val_root_mean_squared_error: 1.0290 - val_loss: 1.0727 - val_regularization_loss: 0.0000e+00 - val_total_loss: 1.0727\n",
      "Epoch 40/50\n",
      "2/2 [==============================] - 0s 62ms/step - root_mean_squared_error: 1.0226 - loss: 1.0248 - regularization_loss: 0.0000e+00 - total_loss: 1.0248 - val_root_mean_squared_error: 1.0251 - val_loss: 1.0650 - val_regularization_loss: 0.0000e+00 - val_total_loss: 1.0650\n",
      "Epoch 41/50\n",
      "2/2 [==============================] - 0s 78ms/step - root_mean_squared_error: 1.0189 - loss: 1.0169 - regularization_loss: 0.0000e+00 - total_loss: 1.0169 - val_root_mean_squared_error: 1.0214 - val_loss: 1.0575 - val_regularization_loss: 0.0000e+00 - val_total_loss: 1.0575\n",
      "Epoch 42/50\n",
      "2/2 [==============================] - 0s 78ms/step - root_mean_squared_error: 1.0154 - loss: 1.0093 - regularization_loss: 0.0000e+00 - total_loss: 1.0093 - val_root_mean_squared_error: 1.0179 - val_loss: 1.0503 - val_regularization_loss: 0.0000e+00 - val_total_loss: 1.0503\n",
      "Epoch 43/50\n",
      "2/2 [==============================] - 0s 78ms/step - root_mean_squared_error: 1.0119 - loss: 1.0019 - regularization_loss: 0.0000e+00 - total_loss: 1.0019 - val_root_mean_squared_error: 1.0144 - val_loss: 1.0433 - val_regularization_loss: 0.0000e+00 - val_total_loss: 1.0433\n",
      "Epoch 44/50\n",
      "2/2 [==============================] - 0s 85ms/step - root_mean_squared_error: 1.0086 - loss: 0.9948 - regularization_loss: 0.0000e+00 - total_loss: 0.9948 - val_root_mean_squared_error: 1.0110 - val_loss: 1.0364 - val_regularization_loss: 0.0000e+00 - val_total_loss: 1.0364\n",
      "Epoch 45/50\n",
      "2/2 [==============================] - 0s 78ms/step - root_mean_squared_error: 1.0054 - loss: 0.9878 - regularization_loss: 0.0000e+00 - total_loss: 0.9878 - val_root_mean_squared_error: 1.0078 - val_loss: 1.0298 - val_regularization_loss: 0.0000e+00 - val_total_loss: 1.0298\n",
      "Epoch 46/50\n",
      "2/2 [==============================] - 0s 64ms/step - root_mean_squared_error: 1.0023 - loss: 0.9811 - regularization_loss: 0.0000e+00 - total_loss: 0.9811 - val_root_mean_squared_error: 1.0046 - val_loss: 1.0234 - val_regularization_loss: 0.0000e+00 - val_total_loss: 1.0234\n",
      "Epoch 47/50\n",
      "2/2 [==============================] - 0s 78ms/step - root_mean_squared_error: 0.9993 - loss: 0.9746 - regularization_loss: 0.0000e+00 - total_loss: 0.9746 - val_root_mean_squared_error: 1.0016 - val_loss: 1.0172 - val_regularization_loss: 0.0000e+00 - val_total_loss: 1.0172\n",
      "Epoch 48/50\n",
      "2/2 [==============================] - 0s 78ms/step - root_mean_squared_error: 0.9964 - loss: 0.9683 - regularization_loss: 0.0000e+00 - total_loss: 0.9683 - val_root_mean_squared_error: 0.9987 - val_loss: 1.0112 - val_regularization_loss: 0.0000e+00 - val_total_loss: 1.0112\n",
      "Epoch 49/50\n",
      "2/2 [==============================] - 0s 78ms/step - root_mean_squared_error: 0.9936 - loss: 0.9623 - regularization_loss: 0.0000e+00 - total_loss: 0.9623 - val_root_mean_squared_error: 0.9959 - val_loss: 1.0055 - val_regularization_loss: 0.0000e+00 - val_total_loss: 1.0055\n",
      "Epoch 50/50\n",
      "2/2 [==============================] - 0s 62ms/step - root_mean_squared_error: 0.9909 - loss: 0.9565 - regularization_loss: 0.0000e+00 - total_loss: 0.9565 - val_root_mean_squared_error: 0.9932 - val_loss: 1.0000 - val_regularization_loss: 0.0000e+00 - val_total_loss: 1.0000\n"
     ]
    },
    {
     "data": {
      "text/plain": "<Figure size 640x480 with 1 Axes>",
      "image/png": "[encoded data removed]"
     },
     "metadata": {},
     "output_type": "display_data"
    },
    {
     "data": {
      "text/plain": "<Figure size 640x480 with 1 Axes>",
      "image/png": "[encoded data removed]"
     },
     "metadata": {},
     "output_type": "display_data"
    }
   ],
   "source": [
    "history = model.fit(cached_train, epochs=50, validation_data=cached_test)\n",
    "\n",
    "plt.plot(history.history[\"loss\"])\n",
    "plt.plot(history.history[\"val_loss\"])\n",
    "plt.title(\"model loss\")\n",
    "plt.ylabel(\"loss\")\n",
    "plt.xlabel(\"epoch\")\n",
    "plt.legend([\"train\", \"test\"], loc=\"upper left\")\n",
    "plt.show()\n",
    "\n",
    "plt.plot(history.history[\"root_mean_squared_error\"])\n",
    "plt.plot(history.history[\"val_root_mean_squared_error\"])\n",
    "plt.title(\"model error\")\n",
    "plt.ylabel(\"error\")\n",
    "plt.xlabel(\"epoch\")\n",
    "plt.legend([\"train\", \"test\"], loc=\"upper left\")\n",
    "plt.show()"
   ],
   "metadata": {
    "collapsed": false
   }
  },
  {
   "cell_type": "code",
   "execution_count": 14,
   "outputs": [
    {
     "name": "stdout",
     "output_type": "stream",
     "text": [
      "2/2 [==============================] - 0s 16ms/step - root_mean_squared_error: 0.9932 - loss: 0.9945 - regularization_loss: 0.0000e+00 - total_loss: 0.9945\n"
     ]
    },
    {
     "ename": "KeyError",
     "evalue": "'factorized_top_k/top_100_categorical_accuracy'",
     "output_type": "error",
     "traceback": [
      "\u001B[1;31m---------------------------------------------------------------------------\u001B[0m",
      "\u001B[1;31mKeyError\u001B[0m                                  Traceback (most recent call last)",
      "Cell \u001B[1;32mIn [14], line 3\u001B[0m\n\u001B[0;32m      1\u001B[0m metrics \u001B[38;5;241m=\u001B[39m model\u001B[38;5;241m.\u001B[39mevaluate(cached_test, return_dict\u001B[38;5;241m=\u001B[39m\u001B[38;5;28;01mTrue\u001B[39;00m)\n\u001B[1;32m----> 3\u001B[0m \u001B[38;5;28mprint\u001B[39m(\u001B[38;5;124mf\u001B[39m\u001B[38;5;124m\"\u001B[39m\u001B[38;5;124mRetrieval top-100 accuracy: \u001B[39m\u001B[38;5;132;01m{\u001B[39;00m\u001B[43mmetrics\u001B[49m\u001B[43m[\u001B[49m\u001B[38;5;124;43m'\u001B[39;49m\u001B[38;5;124;43mfactorized_top_k/top_100_categorical_accuracy\u001B[39;49m\u001B[38;5;124;43m'\u001B[39;49m\u001B[43m]\u001B[49m\u001B[38;5;132;01m:\u001B[39;00m\u001B[38;5;124m.3f\u001B[39m\u001B[38;5;132;01m}\u001B[39;00m\u001B[38;5;124m.\u001B[39m\u001B[38;5;124m\"\u001B[39m)\n\u001B[0;32m      4\u001B[0m \u001B[38;5;28mprint\u001B[39m(\u001B[38;5;124mf\u001B[39m\u001B[38;5;124m\"\u001B[39m\u001B[38;5;124mRanking RMSE: \u001B[39m\u001B[38;5;132;01m{\u001B[39;00mmetrics[\u001B[38;5;124m'\u001B[39m\u001B[38;5;124mroot_mean_squared_error\u001B[39m\u001B[38;5;124m'\u001B[39m]\u001B[38;5;132;01m:\u001B[39;00m\u001B[38;5;124m.3f\u001B[39m\u001B[38;5;132;01m}\u001B[39;00m\u001B[38;5;124m.\u001B[39m\u001B[38;5;124m\"\u001B[39m)\n",
      "\u001B[1;31mKeyError\u001B[0m: 'factorized_top_k/top_100_categorical_accuracy'"
     ]
    }
   ],
   "source": [
    "metrics = model.evaluate(cached_test, return_dict=True)\n",
    "\n",
    "print(f\"Retrieval top-100 accuracy: {metrics['factorized_top_k/top_100_categorical_accuracy']:.3f}.\")\n",
    "print(f\"Ranking RMSE: {metrics['root_mean_squared_error']:.3f}.\")"
   ],
   "metadata": {
    "collapsed": false
   }
  },
  {
   "cell_type": "markdown",
   "source": [
    "## Evaluating our model"
   ],
   "metadata": {
    "collapsed": false
   }
  },
  {
   "cell_type": "code",
   "execution_count": 15,
   "outputs": [
    {
     "name": "stdout",
     "output_type": "stream",
     "text": [
      "Recommendation for the two users: \n",
      "\n",
      "b'Pulp Fiction (1994)': [[4.4664464]]\n",
      "b'Apocalypse Now (1979)': [[4.264622]]\n",
      "b'African Queen, The (1951)': [[4.1641574]]\n",
      "b'Die Hard (1988)': [[4.1250105]]\n",
      "b'Stand by Me (1986)': [[4.1234226]]\n",
      "b'Raise the Red Lantern (1991)': [[4.093865]]\n",
      "b'Jurassic Park (1993)': [[4.078675]]\n",
      "b'Mr. Smith Goes to Washington (1939)': [[4.0478554]]\n",
      "b'Killing Fields, The (1984)': [[4.0278153]]\n",
      "b'Wings of Desire (1987)': [[4.0021234]]\n"
     ]
    }
   ],
   "source": [
    "user_1 = np.array([\"42\"])\n",
    "user_2 = np.array([\"72\"])\n",
    "test_movie_titles, ind = np.unique(np.concatenate(list(movie_titles)), return_index=True)\n",
    "test = test_movie_titles[np.argsort(ind)]\n",
    "\n",
    "model.couple_movie_recommendation(user_1, user_2, test[:100])"
   ],
   "metadata": {
    "collapsed": false
   }
  },
  {
   "cell_type": "code",
   "execution_count": null,
   "outputs": [],
   "source": [],
   "metadata": {
    "collapsed": false
   }
  }
 ],
 "metadata": {
  "kernelspec": {
   "display_name": "Python 3",
   "language": "python",
   "name": "python3"
  },
  "language_info": {
   "codemirror_mode": {
    "name": "ipython",
    "version": 2
   },
   "file_extension": ".py",
   "mimetype": "text/x-python",
   "name": "python",
   "nbconvert_exporter": "python",
   "pygments_lexer": "ipython2",
   "version": "2.7.6"
  }
 },
 "nbformat": 4,
 "nbformat_minor": 0
}
