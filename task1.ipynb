{
 "cells": [
  {
   "cell_type": "markdown",
   "source": [
    "# Recommender Network for Movies\n",
    "by Alexander Köhn"
   ],
   "metadata": {
    "collapsed": false
   }
  },
  {
   "cell_type": "markdown",
   "source": [
    "![title](img/img.png)"
   ],
   "metadata": {
    "collapsed": false
   }
  },
  {
   "cell_type": "markdown",
   "source": [
    "## Information for the tester\n",
    "In the following my whole Software contribution is shown via a Jupyter notebook. My Final Report is included during the Notebook at the relevant parts of my code.\n",
    "The summary of the tutorials are in an extra file in my repository."
   ],
   "metadata": {
    "collapsed": false
   }
  },
  {
   "cell_type": "markdown",
   "source": [
    "## Credits\n",
    "I got information and code for this project from the Tutorial (https://keras.io/examples/structured_data/collaborative_filtering_movielens/), (https://www.tensorflow.org/recommenders/examples/basic_retrieval) and the Tensorflow API (https://www.tensorflow.org/api_docs/python/tf)"
   ],
   "metadata": {
    "collapsed": false
   }
  },
  {
   "cell_type": "markdown",
   "source": [
    "## Project Goal and underlying topic\n",
    "The Project Goal is to implement a recommender system for love pairs, which want to watch a movie together during the winter holidays. The motivation is to reduce the time couples spend searching for the right movie.\n",
    "Common Platforms use recommender systems with the data of the signed account. These Systems are not achieving the best results, if the account is most often used alone by one person and just used sometimes to watch movies together.\n",
    "Implementing a recommender system with the input of two people, which want to watch a movie together, and an output of movies, which are good for both of them, is the Goal.\n",
    "\n",
    "Additionally, we want to have some more features.\n",
    "1. We can decide which users interest is more important for the network."
   ],
   "metadata": {
    "collapsed": false
   }
  },
  {
   "cell_type": "markdown",
   "source": [
    "## Inputs\n",
    "First we need some Packages for building the network and analysing the data."
   ],
   "metadata": {
    "collapsed": false
   }
  },
  {
   "cell_type": "code",
   "execution_count": 88,
   "outputs": [
    {
     "name": "stdout",
     "output_type": "stream",
     "text": [
      "Note: you may need to restart the kernel to use updated packages.\n"
     ]
    },
    {
     "name": "stderr",
     "output_type": "stream",
     "text": [
      "WARNING: You are using pip version 21.1.2; however, version 22.3.1 is available.\n",
      "You should consider upgrading via the 'c:\\users\\koehn\\pycharmprojects\\pythonproject\\venv\\scripts\\python.exe -m pip install --upgrade pip' command.\n"
     ]
    },
    {
     "name": "stdout",
     "output_type": "stream",
     "text": [
      "Note: you may need to restart the kernel to use updated packages.\n"
     ]
    },
    {
     "name": "stderr",
     "output_type": "stream",
     "text": [
      "WARNING: You are using pip version 21.1.2; however, version 22.3.1 is available.\n",
      "You should consider upgrading via the 'c:\\users\\koehn\\pycharmprojects\\pythonproject\\venv\\scripts\\python.exe -m pip install --upgrade pip' command.\n"
     ]
    },
    {
     "name": "stdout",
     "output_type": "stream",
     "text": [
      "Note: you may need to restart the kernel to use updated packages.\n"
     ]
    },
    {
     "name": "stderr",
     "output_type": "stream",
     "text": [
      "ERROR: Could not find a version that satisfies the requirement scann (from versions: none)\n",
      "ERROR: No matching distribution found for scann\n",
      "WARNING: You are using pip version 21.1.2; however, version 22.3.1 is available.\n",
      "You should consider upgrading via the 'c:\\users\\koehn\\pycharmprojects\\pythonproject\\venv\\scripts\\python.exe -m pip install --upgrade pip' command.\n"
     ]
    }
   ],
   "source": [
    "%pip install -q tensorflow-recommenders\n",
    "%pip install -q --upgrade tensorflow-datasets\n",
    "%pip install -q scann"
   ],
   "metadata": {
    "collapsed": false
   }
  },
  {
   "cell_type": "code",
   "execution_count": 89,
   "outputs": [],
   "source": [
    "import os\n",
    "import pprint\n",
    "import tempfile\n",
    "\n",
    "from typing import Dict, Text\n",
    "\n",
    "import numpy as np\n",
    "import tensorflow as tf\n",
    "import tensorflow_datasets as tfds\n",
    "import tensorflow_recommenders as tfrs\n",
    "\n",
    "import pandas as pd\n",
    "import matplotlib.pyplot as plt"
   ],
   "metadata": {
    "collapsed": false
   }
  },
  {
   "cell_type": "markdown",
   "source": [
    "## Data\n",
    "We are using the Movielens 100K Dataset, which features a set with 100,000 ratings (1-5) from 943 users on 1682 movies. Tensorflow already provides a method to download the Dataset to the hard disk. After the first download the dataset from the disk will be used."
   ],
   "metadata": {
    "collapsed": false
   }
  },
  {
   "cell_type": "code",
   "execution_count": 90,
   "metadata": {
    "collapsed": true
   },
   "outputs": [],
   "source": [
    "# Ratings data.\n",
    "ratings = tfds.load(\"movielens/100k-ratings\", split=\"train\")\n",
    "# Features of all the available movies.\n",
    "movies = tfds.load(\"movielens/100k-movies\", split=\"train\")"
   ]
  },
  {
   "cell_type": "markdown",
   "source": [
    "As you can see, each rating consists of a movie with specific genres and a user with demographic information."
   ],
   "metadata": {
    "collapsed": false
   }
  },
  {
   "cell_type": "code",
   "execution_count": 91,
   "outputs": [
    {
     "name": "stdout",
     "output_type": "stream",
     "text": [
      "{'bucketized_user_age': 45.0,\n",
      " 'movie_genres': array([7], dtype=int64),\n",
      " 'movie_id': b'357',\n",
      " 'movie_title': b\"One Flew Over the Cuckoo's Nest (1975)\",\n",
      " 'raw_user_age': 46.0,\n",
      " 'timestamp': 879024327,\n",
      " 'user_gender': True,\n",
      " 'user_id': b'138',\n",
      " 'user_occupation_label': 4,\n",
      " 'user_occupation_text': b'doctor',\n",
      " 'user_rating': 4.0,\n",
      " 'user_zip_code': b'53211'}\n"
     ]
    }
   ],
   "source": [
    "for x in ratings.take(1).as_numpy_iterator():\n",
    "  pprint.pprint(x)"
   ],
   "metadata": {
    "collapsed": false
   }
  },
  {
   "cell_type": "markdown",
   "source": [],
   "metadata": {
    "collapsed": false
   }
  },
  {
   "cell_type": "code",
   "execution_count": 92,
   "outputs": [
    {
     "name": "stdout",
     "output_type": "stream",
     "text": [
      "{'movie_genres': array([4], dtype=int64),\n",
      " 'movie_id': b'1681',\n",
      " 'movie_title': b'You So Crazy (1994)'}\n"
     ]
    }
   ],
   "source": [
    "for x in movies.take(1).as_numpy_iterator():\n",
    "  pprint.pprint(x)"
   ],
   "metadata": {
    "collapsed": false
   }
  },
  {
   "cell_type": "markdown",
   "source": [
    "## Analaysis of the data\n",
    "We can gain a better intuition for the dataset if we gather information about statistical information of the dataset.\n"
   ],
   "metadata": {
    "collapsed": false
   }
  },
  {
   "cell_type": "code",
   "execution_count": 92,
   "outputs": [],
   "source": [],
   "metadata": {
    "collapsed": false
   }
  },
  {
   "cell_type": "markdown",
   "source": [
    "## Prepocessing of the data\n"
   ],
   "metadata": {
    "collapsed": false
   }
  },
  {
   "cell_type": "markdown",
   "source": [
    "To simplify our model we will only use the user_id, movie_title and the user_rating from the Dataset."
   ],
   "metadata": {
    "collapsed": false
   }
  },
  {
   "cell_type": "code",
   "execution_count": 93,
   "outputs": [],
   "source": [
    "ratings = ratings.map(lambda x: {\n",
    "    \"movie_title\": x[\"movie_title\"],\n",
    "    \"user_id\": x[\"user_id\"],\n",
    "    \"user_rating\": x[\"user_rating\"],\n",
    "})\n",
    "movies = movies.map(lambda x: x[\"movie_title\"])"
   ],
   "metadata": {
    "collapsed": false
   }
  },
  {
   "cell_type": "markdown",
   "source": [
    "We are shuffling the data of the rating to randomize the learning and to avoid a bias in the train and test data."
   ],
   "metadata": {
    "collapsed": false
   }
  },
  {
   "cell_type": "code",
   "execution_count": 94,
   "outputs": [],
   "source": [
    "tf.random.set_seed(37)\n",
    "shuffled = ratings.shuffle(100_000, seed=37, reshuffle_each_iteration=True)"
   ],
   "metadata": {
    "collapsed": false
   }
  },
  {
   "cell_type": "markdown",
   "source": [
    "We are dividing the dataset in 80 % train data and 20% test data."
   ],
   "metadata": {
    "collapsed": false
   }
  },
  {
   "cell_type": "code",
   "execution_count": 95,
   "outputs": [],
   "source": [
    "train = shuffled.take(80_000)\n",
    "test = shuffled.skip(80_000).take(20_000)"
   ],
   "metadata": {
    "collapsed": false
   }
  },
  {
   "cell_type": "markdown",
   "source": [
    "Now we want to get two lists. The first list unique_movie_titles consists of all the movie titles, but every title is only saved once in the list. The second list unique_user_ids consists of all the users, in the same was as the first. We need those specific lists to set up the size of our network later."
   ],
   "metadata": {
    "collapsed": false
   }
  },
  {
   "cell_type": "code",
   "execution_count": 96,
   "outputs": [
    {
     "name": "stdout",
     "output_type": "stream",
     "text": [
      "First 10 Movie titles: \n",
      "[b\"'Til There Was You (1997)\" b'1-900 (1994)' b'101 Dalmatians (1996)'\n",
      " b'12 Angry Men (1957)' b'187 (1997)' b'2 Days in the Valley (1996)'\n",
      " b'20,000 Leagues Under the Sea (1954)' b'2001: A Space Odyssey (1968)'\n",
      " b'3 Ninjas: High Noon At Mega Mountain (1998)' b'39 Steps, The (1935)']\n",
      "\n",
      "The total count of users:  943\n",
      "The total count of movies:  1664\n"
     ]
    }
   ],
   "source": [
    "movie_titles = movies.batch(1_000)\n",
    "user_ids = ratings.batch(1_000_000).map(lambda y: y[\"user_id\"])\n",
    "\n",
    "unique_movie_titles = np.unique(np.concatenate(list(movie_titles)))\n",
    "unique_user_ids = np.unique(np.concatenate(list(user_ids)))\n",
    "\n",
    "print(\"First 10 Movie titles: \")\n",
    "print(unique_movie_titles[:10])\n",
    "\n",
    "print(\"\\nThe total count of users: \", len(unique_user_ids))\n",
    "print(\"The total count of movies: \", len(unique_movie_titles))"
   ],
   "metadata": {
    "collapsed": false
   }
  },
  {
   "cell_type": "markdown",
   "source": [
    "## Architecture of our model\n",
    "The Goal is to give a ranking of the Dataset. We are building the Class MovielensModel from tfrs.models-Model. This class inherits a network for the user, movie and ratings.\n",
    "\n",
    "user_embeddings and movie_embeddings are both a Sequential model, which turn their specific user_ids or movie_ids into integer in the first layer using StringLookUp and map them over en embedding layer, with the length of the user or movie list and with a specific dimension.\n",
    "\n",
    "When we call our class with the user_id and movie_id as input. The user_embeddings and movie_embedding are calculated via the two networks. With those embeddings as inputs the ratings network processes via a dense layer structure the embeddings to a single number.\n",
    "\n",
    "To compute the loss we are calling the model and compare the ranking with the true number threw the task model, which we inherit from tfrs.model. We measure the loss with MeanSquaredError"
   ],
   "metadata": {
    "collapsed": false
   }
  },
  {
   "cell_type": "markdown",
   "source": [],
   "metadata": {
    "collapsed": false
   }
  },
  {
   "cell_type": "code",
   "execution_count": 97,
   "outputs": [],
   "source": [
    "class MovielensModel(tfrs.models.Model):\n",
    "\n",
    "    def __init__(self):\n",
    "        super().__init__()\n",
    "        embedding_dimension = 32\n",
    "\n",
    "        # Compute embeddings for users.\n",
    "        self.user_embeddings = tf.keras.Sequential([\n",
    "            tf.keras.layers.StringLookup(\n",
    "                vocabulary=unique_user_ids, mask_token=None),\n",
    "            tf.keras.layers.Embedding(len(unique_user_ids) + 1, embedding_dimension)\n",
    "        ])\n",
    "\n",
    "        # Compute embeddings for movies.\n",
    "        self.movie_embeddings = tf.keras.Sequential([\n",
    "            tf.keras.layers.StringLookup(\n",
    "                vocabulary=unique_movie_titles, mask_token=None),\n",
    "            tf.keras.layers.Embedding(len(unique_movie_titles) + 1, embedding_dimension)\n",
    "        ])\n",
    "\n",
    "        # Compute predictions.\n",
    "        self.ratings = tf.keras.Sequential([\n",
    "            # Learn multiple dense layers.\n",
    "            tf.keras.layers.Dense(256, activation=\"relu\"),\n",
    "            tf.keras.layers.Dense(64, activation=\"relu\"),\n",
    "            # Make rating predictions in the final layer.\n",
    "            tf.keras.layers.Dense(1)\n",
    "        ])\n",
    "\n",
    "        self.task: tf.keras.layers.Layer = tfrs.tasks.Ranking(\n",
    "            loss=tf.keras.losses.MeanSquaredError(),\n",
    "            metrics=[tf.keras.metrics.RootMeanSquaredError()]\n",
    "        )\n",
    "\n",
    "    def call(self, features: Dict[str, tf.Tensor]) -> tf.Tensor:\n",
    "        user_id = features[\"user_id\"]\n",
    "        movie_title = features[\"movie_title\"]\n",
    "\n",
    "        user_embedding = self.user_embeddings(user_id)\n",
    "        movie_embedding = self.movie_embeddings(movie_title)\n",
    "\n",
    "        return self.ratings(tf.concat([user_embedding, movie_embedding], axis=1))\n",
    "\n",
    "    def compute_loss(self, features: Dict[Text, tf.Tensor], training=False) -> tf.Tensor:\n",
    "        labels = features.pop(\"user_rating\")\n",
    "\n",
    "        rating_predictions = self(features)\n",
    "\n",
    "        # The task computes the loss and the metrics.\n",
    "        return self.task(labels=labels, predictions=rating_predictions)\n",
    "\n",
    "    def couple_movie_recommendation(self, user_id_1, user_id_2, user_weight_1, user_weight_2, movie_list, movie_recommendation_quantity):\n",
    "        test_ratings_1 = {}\n",
    "        test_ratings_2 = {}\n",
    "        test_ratings_combined = {}\n",
    "        for movie_title in movie_list:\n",
    "            test_ratings_1[movie_title] = self({\n",
    "                \"user_id\": user_id_1,\n",
    "                \"movie_title\": np.array([movie_title])\n",
    "            })\n",
    "            test_ratings_2[movie_title] = self({\n",
    "                \"user_id\": user_id_2,\n",
    "                \"movie_title\": np.array([movie_title])\n",
    "            })\n",
    "            test_ratings_combined[movie_title] = (test_ratings_1[movie_title] * user_weight_1 + test_ratings_2[movie_title] * user_weight_2) / (user_weight_1 + user_weight_2)\n",
    "\n",
    "        test_ratings_combined = sorted(test_ratings_combined.items(), key=lambda x: x[1], reverse=True)\n",
    "        print(\"Recommendation for the two users: \\n\")\n",
    "        for title, score in test_ratings_combined[:movie_recommendation_quantity]:\n",
    "            print(f\"{title}: {score}\")\n"
   ],
   "metadata": {
    "collapsed": false
   }
  },
  {
   "cell_type": "markdown",
   "source": [
    "The best function of this network is surely the couple_movie_recommendation. In this method we go threw the movie list and calculate for each movie the ranking for both users. We take those rankings and calculate the average. In the calculation we weigh each ranking with an integer to specify, which interests are more important.\n",
    "To show our results we print a sorted list with the highest ranked movies."
   ],
   "metadata": {
    "collapsed": false
   }
  },
  {
   "cell_type": "markdown",
   "source": [
    "\n",
    "## Building our model"
   ],
   "metadata": {
    "collapsed": false
   }
  },
  {
   "cell_type": "markdown",
   "source": [
    "We are getting an instance of the MovielensModel Class and compile it with the Adagrad optimizer"
   ],
   "metadata": {
    "collapsed": false
   }
  },
  {
   "cell_type": "code",
   "execution_count": 98,
   "outputs": [],
   "source": [
    "model = MovielensModel()\n",
    "model.compile(optimizer=tf.keras.optimizers.Adagrad(learning_rate=0.1))"
   ],
   "metadata": {
    "collapsed": false
   }
  },
  {
   "cell_type": "markdown",
   "source": [
    "To fit the model, we input the train and test data and the number of epochs"
   ],
   "metadata": {
    "collapsed": false
   }
  },
  {
   "cell_type": "code",
   "execution_count": 99,
   "outputs": [],
   "source": [
    "cached_train = train.shuffle(100_000).batch(256).cache()\n",
    "cached_test = test.batch(64).cache()\n",
    "history = model.fit(cached_train, epochs=10, validation_data=cached_test)"
   ],
   "metadata": {
    "collapsed": false
   }
  },
  {
   "cell_type": "markdown",
   "source": [
    "## Evaluating our model"
   ],
   "metadata": {
    "collapsed": false
   }
  },
  {
   "cell_type": "markdown",
   "source": [
    "After we fitted the model, we can see how the loss and the val_loss developed over the epochs. Another good metric is the error which we can see in the second plot."
   ],
   "metadata": {
    "collapsed": false
   }
  },
  {
   "cell_type": "code",
   "execution_count": 100,
   "outputs": [
    {
     "name": "stdout",
     "output_type": "stream",
     "text": [
      "Epoch 1/10\n",
      "313/313 [==============================] - 4s 9ms/step - root_mean_squared_error: 1.0818 - loss: 1.1691 - regularization_loss: 0.0000e+00 - total_loss: 1.1691 - val_root_mean_squared_error: 0.9514 - val_loss: 0.9677 - val_regularization_loss: 0.0000e+00 - val_total_loss: 0.9677\n",
      "Epoch 2/10\n",
      "313/313 [==============================] - 2s 6ms/step - root_mean_squared_error: 0.9478 - loss: 0.8981 - regularization_loss: 0.0000e+00 - total_loss: 0.8981 - val_root_mean_squared_error: 0.9355 - val_loss: 0.9635 - val_regularization_loss: 0.0000e+00 - val_total_loss: 0.9635\n",
      "Epoch 3/10\n",
      "313/313 [==============================] - 2s 6ms/step - root_mean_squared_error: 0.9374 - loss: 0.8786 - regularization_loss: 0.0000e+00 - total_loss: 0.8786 - val_root_mean_squared_error: 0.9277 - val_loss: 0.9568 - val_regularization_loss: 0.0000e+00 - val_total_loss: 0.9568\n",
      "Epoch 4/10\n",
      "313/313 [==============================] - 3s 10ms/step - root_mean_squared_error: 0.9302 - loss: 0.8651 - regularization_loss: 0.0000e+00 - total_loss: 0.8651 - val_root_mean_squared_error: 0.9211 - val_loss: 0.9348 - val_regularization_loss: 0.0000e+00 - val_total_loss: 0.9348\n",
      "Epoch 5/10\n",
      "313/313 [==============================] - 2s 7ms/step - root_mean_squared_error: 0.9223 - loss: 0.8503 - regularization_loss: 0.0000e+00 - total_loss: 0.8503 - val_root_mean_squared_error: 0.9153 - val_loss: 0.9072 - val_regularization_loss: 0.0000e+00 - val_total_loss: 0.9072\n",
      "Epoch 6/10\n",
      "313/313 [==============================] - 2s 7ms/step - root_mean_squared_error: 0.9147 - loss: 0.8365 - regularization_loss: 0.0000e+00 - total_loss: 0.8365 - val_root_mean_squared_error: 0.9108 - val_loss: 0.8985 - val_regularization_loss: 0.0000e+00 - val_total_loss: 0.8985\n",
      "Epoch 7/10\n",
      "313/313 [==============================] - 2s 7ms/step - root_mean_squared_error: 0.9086 - loss: 0.8252 - regularization_loss: 0.0000e+00 - total_loss: 0.8252 - val_root_mean_squared_error: 0.9062 - val_loss: 0.8921 - val_regularization_loss: 0.0000e+00 - val_total_loss: 0.8921\n",
      "Epoch 8/10\n",
      "313/313 [==============================] - 2s 7ms/step - root_mean_squared_error: 0.9027 - loss: 0.8145 - regularization_loss: 0.0000e+00 - total_loss: 0.8145 - val_root_mean_squared_error: 0.8999 - val_loss: 0.8876 - val_regularization_loss: 0.0000e+00 - val_total_loss: 0.8876\n",
      "Epoch 9/10\n",
      "313/313 [==============================] - 2s 7ms/step - root_mean_squared_error: 0.8965 - loss: 0.8034 - regularization_loss: 0.0000e+00 - total_loss: 0.8034 - val_root_mean_squared_error: 0.8936 - val_loss: 0.8823 - val_regularization_loss: 0.0000e+00 - val_total_loss: 0.8823\n",
      "Epoch 10/10\n",
      "313/313 [==============================] - 2s 7ms/step - root_mean_squared_error: 0.8899 - loss: 0.7916 - regularization_loss: 0.0000e+00 - total_loss: 0.7916 - val_root_mean_squared_error: 0.8869 - val_loss: 0.8822 - val_regularization_loss: 0.0000e+00 - val_total_loss: 0.8822\n"
     ]
    },
    {
     "data": {
      "text/plain": "<Figure size 640x480 with 1 Axes>",
      "image/png": "[encoded data removed]"
     },
     "metadata": {},
     "output_type": "display_data"
    },
    {
     "data": {
      "text/plain": "<Figure size 640x480 with 1 Axes>",
      "image/png": "[encoded data removed]"
     },
     "metadata": {},
     "output_type": "display_data"
    }
   ],
   "source": [
    "plt.plot(history.history[\"loss\"])\n",
    "plt.plot(history.history[\"val_loss\"])\n",
    "plt.title(\"model loss\")\n",
    "plt.ylabel(\"loss\")\n",
    "plt.xlabel(\"epoch\")\n",
    "plt.legend([\"train\", \"test\"], loc=\"upper left\")\n",
    "plt.show()\n",
    "\n",
    "plt.plot(history.history[\"root_mean_squared_error\"])\n",
    "plt.plot(history.history[\"val_root_mean_squared_error\"])\n",
    "plt.title(\"model error\")\n",
    "plt.ylabel(\"error\")\n",
    "plt.xlabel(\"epoch\")\n",
    "plt.legend([\"train\", \"test\"], loc=\"upper left\")\n",
    "plt.show()"
   ],
   "metadata": {
    "collapsed": false
   }
  },
  {
   "cell_type": "markdown",
   "source": [
    "At the end we have an error of:"
   ],
   "metadata": {
    "collapsed": false
   }
  },
  {
   "cell_type": "code",
   "execution_count": 101,
   "outputs": [
    {
     "name": "stdout",
     "output_type": "stream",
     "text": [
      "313/313 [==============================] - 1s 2ms/step - root_mean_squared_error: 0.8869 - loss: 0.7871 - regularization_loss: 0.0000e+00 - total_loss: 0.7871\n",
      "Ranking RMSE: 0.887.\n"
     ]
    }
   ],
   "source": [
    "metrics = model.evaluate(cached_test, return_dict=True)\n",
    "\n",
    "print(f\"Ranking RMSE: {metrics['root_mean_squared_error']:.3f}.\")"
   ],
   "metadata": {
    "collapsed": false
   }
  },
  {
   "cell_type": "markdown",
   "source": [
    "## Movie recommendation for couples"
   ],
   "metadata": {
    "collapsed": false
   }
  },
  {
   "cell_type": "code",
   "execution_count": 102,
   "outputs": [
    {
     "name": "stdout",
     "output_type": "stream",
     "text": [
      "Recommendation for the two users: \n",
      "\n",
      "b'Raise the Red Lantern (1991)': [[4.3005376]]\n",
      "b'Mr. Smith Goes to Washington (1939)': [[4.287832]]\n",
      "b'African Queen, The (1951)': [[4.229783]]\n",
      "b'Jurassic Park (1993)': [[4.1993175]]\n",
      "b'Die Hard (1988)': [[4.190106]]\n",
      "b'Killing Fields, The (1984)': [[4.1035123]]\n",
      "b'Stonewall (1995)': [[4.0871544]]\n",
      "b\"Boy's Life 2 (1997)\": [[4.0577316]]\n",
      "b'Stand by Me (1986)': [[4.022798]]\n",
      "b'Pulp Fiction (1994)': [[4.0081058]]\n",
      "b'Magic Hour, The (1998)': [[3.9937975]]\n",
      "b'Giant (1956)': [[3.981733]]\n",
      "b'To Live (Huozhe) (1994)': [[3.9592829]]\n",
      "b'Ran (1985)': [[3.9504375]]\n",
      "b'Wings of Desire (1987)': [[3.9382133]]\n",
      "b'Forbidden Planet (1956)': [[3.93628]]\n",
      "b'Mondo (1996)': [[3.9143627]]\n",
      "b'Girls Town (1996)': [[3.913751]]\n",
      "b'Collectionneuse, La (1967)': [[3.907675]]\n",
      "b'Star Trek IV: The Voyage Home (1986)': [[3.8801959]]\n",
      "b\"Smilla's Sense of Snow (1997)\": [[3.8625793]]\n",
      "b'So Dear to My Heart (1949)': [[3.8625767]]\n",
      "b'Beans of Egypt, Maine, The (1994)': [[3.853872]]\n",
      "b'Swan Princess, The (1994)': [[3.8409793]]\n",
      "b'Flirt (1995)': [[3.834919]]\n",
      "b'Sweet Hereafter, The (1997)': [[3.8295434]]\n",
      "b'Grosse Pointe Blank (1997)': [[3.8258247]]\n",
      "b'Sabrina (1954)': [[3.8252897]]\n",
      "b'Boys, Les (1997)': [[3.8189602]]\n",
      "b'Emma (1996)': [[3.8161125]]\n"
     ]
    }
   ],
   "source": [
    "user_1 = np.array([\"42\"])\n",
    "user_2 = np.array([\"72\"])\n",
    "user_1_weight = 5\n",
    "user_2_weight = 1\n",
    "test_movie_titles, ind = np.unique(np.concatenate(list(movie_titles)), return_index=True)\n",
    "test = test_movie_titles[np.argsort(ind)]\n",
    "\n",
    "model.couple_movie_recommendation(user_1, user_2, user_1_weight, user_2_weight, test[:100], 30)"
   ],
   "metadata": {
    "collapsed": false
   }
  }
 ],
 "metadata": {
  "kernelspec": {
   "display_name": "Python 3",
   "language": "python",
   "name": "python3"
  },
  "language_info": {
   "codemirror_mode": {
    "name": "ipython",
    "version": 2
   },
   "file_extension": ".py",
   "mimetype": "text/x-python",
   "name": "python",
   "nbconvert_exporter": "python",
   "pygments_lexer": "ipython2",
   "version": "2.7.6"
  }
 },
 "nbformat": 4,
 "nbformat_minor": 0
}
