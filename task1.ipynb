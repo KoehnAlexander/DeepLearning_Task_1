{
 "cells": [
  {
   "cell_type": "markdown",
   "source": [
    "# Recommender Network for Movies\n",
    "by Alexander Köhn"
   ],
   "metadata": {
    "collapsed": false
   }
  },
  {
   "cell_type": "markdown",
   "source": [
    "![title](img/img.png)"
   ],
   "metadata": {
    "collapsed": false
   }
  },
  {
   "cell_type": "markdown",
   "source": [
    "## Information for the tester\n",
    "In the following my whole Software contribution is shown via a Jupyter notebook. My Final Report is included during the Notebook at the relevant parts of my code.\n",
    "The summary of the tutorials are in an extra file in my repository."
   ],
   "metadata": {
    "collapsed": false
   }
  },
  {
   "cell_type": "markdown",
   "source": [
    "## Credits\n",
    "I got information and code for this project from the Tutorial (https://keras.io/examples/structured_data/collaborative_filtering_movielens/), (https://www.tensorflow.org/recommenders/examples/basic_retrieval) and the Tensorflow API (https://www.tensorflow.org/api_docs/python/tf)"
   ],
   "metadata": {
    "collapsed": false
   }
  },
  {
   "cell_type": "markdown",
   "source": [
    "## Project Goal and underlying topic\n",
    "The Project Goal is to implement a recommender system for love pairs, which want to watch a movie together during the winter holidays.\n",
    "### Motivation for the underlying topic and data\n",
    "The motivation is to reduce the time couples spend searching for the right movie.\n",
    "Common Platforms use recommender systems with the data of the signed account. These Systems are not achieving the best results, if the account is most often used alone by one person and just used sometimes to watch movies together.\n",
    "Implementing a recommender system with the input of two people, which want to watch a movie together, and an output of movies, which are good for both of them, is the Goal. This feature could be interesting for streaming platforms. If a couple has two accounts they could send invitations to each other and share their personal behavior to the others algorithm. This does not mean that the other person can see which movie the partner has watched. It only means that both underlying recommendation network know the behavior of the other.\n",
    "\n",
    "Additionally, we want to have some more features.\n",
    "1. We can decide which users interest is more important for the network. In case that someone is angry and wants to watch more like his/her interests."
   ],
   "metadata": {
    "collapsed": false
   }
  },
  {
   "cell_type": "markdown",
   "source": [
    "## Inputs\n",
    "First we need some Packages for building the network and analysing the data."
   ],
   "metadata": {
    "collapsed": false
   }
  },
  {
   "cell_type": "code",
   "execution_count": 1,
   "outputs": [],
   "source": [
    "import pprint\n",
    "\n",
    "from typing import Dict, Text\n",
    "\n",
    "import numpy as np\n",
    "import tensorflow as tf\n",
    "import tensorflow_datasets as tfds\n",
    "import tensorflow_recommenders as tfrs\n",
    "\n",
    "import pandas as pd\n",
    "import matplotlib.pyplot as plt\n"
   ],
   "metadata": {
    "collapsed": false
   }
  },
  {
   "cell_type": "code",
   "execution_count": 2,
   "outputs": [
    {
     "name": "stdout",
     "output_type": "stream",
     "text": [
      "Note: you may need to restart the kernel to use updated packages.\n"
     ]
    }
   ],
   "source": [
    "%pip freeze > requirements.txt"
   ],
   "metadata": {
    "collapsed": false
   }
  },
  {
   "cell_type": "markdown",
   "source": [
    "## Data\n",
    "We are using the Movielens 100K Dataset, which features a set with 100,000 ratings (1-5) from 943 users on 1682 movies. Tensorflow already provides a method to download the Dataset to the hard disk. After the first download the dataset from the disk will be used."
   ],
   "metadata": {
    "collapsed": false
   }
  },
  {
   "cell_type": "code",
   "execution_count": 3,
   "metadata": {
    "collapsed": true
   },
   "outputs": [],
   "source": [
    "# Ratings data.\n",
    "ratings, ratings_info = tfds.load(\"movielens/100k-ratings\", split=\"train\", with_info=True)\n",
    "# Features of all the available movies.\n",
    "movies = tfds.load(\"movielens/100k-movies\", split=\"train\")"
   ]
  },
  {
   "cell_type": "markdown",
   "source": [
    "As you can see, each rating consists of a movie with specific genres and a user with demographic information."
   ],
   "metadata": {
    "collapsed": false
   }
  },
  {
   "cell_type": "code",
   "execution_count": 4,
   "outputs": [
    {
     "name": "stdout",
     "output_type": "stream",
     "text": [
      "{'bucketized_user_age': 45.0,\n",
      " 'movie_genres': array([7], dtype=int64),\n",
      " 'movie_id': b'357',\n",
      " 'movie_title': b\"One Flew Over the Cuckoo's Nest (1975)\",\n",
      " 'raw_user_age': 46.0,\n",
      " 'timestamp': 879024327,\n",
      " 'user_gender': True,\n",
      " 'user_id': b'138',\n",
      " 'user_occupation_label': 4,\n",
      " 'user_occupation_text': b'doctor',\n",
      " 'user_rating': 4.0,\n",
      " 'user_zip_code': b'53211'}\n"
     ]
    }
   ],
   "source": [
    "for x in ratings.take(1).as_numpy_iterator():\n",
    "  pprint.pprint(x)"
   ],
   "metadata": {
    "collapsed": false
   }
  },
  {
   "cell_type": "code",
   "execution_count": 5,
   "outputs": [
    {
     "name": "stdout",
     "output_type": "stream",
     "text": [
      "{'movie_genres': array([4], dtype=int64),\n",
      " 'movie_id': b'1681',\n",
      " 'movie_title': b'You So Crazy (1994)'}\n"
     ]
    }
   ],
   "source": [
    "for x in movies.take(1).as_numpy_iterator():\n",
    "  pprint.pprint(x)"
   ],
   "metadata": {
    "collapsed": false
   }
  },
  {
   "cell_type": "markdown",
   "source": [
    "## Analaysis of the data\n",
    "We can gain a better intuition for the dataset if we gather information about statistical information of the dataset.\n"
   ],
   "metadata": {
    "collapsed": false
   }
  },
  {
   "cell_type": "code",
   "execution_count": 6,
   "outputs": [
    {
     "name": "stdout",
     "output_type": "stream",
     "text": [
      "FeaturesDict({\n",
      "    'bucketized_user_age': float32,\n",
      "    'movie_genres': Sequence(ClassLabel(shape=(), dtype=int64, num_classes=21)),\n",
      "    'movie_id': string,\n",
      "    'movie_title': string,\n",
      "    'raw_user_age': float32,\n",
      "    'timestamp': int64,\n",
      "    'user_gender': bool,\n",
      "    'user_id': string,\n",
      "    'user_occupation_label': ClassLabel(shape=(), dtype=int64, num_classes=22),\n",
      "    'user_occupation_text': string,\n",
      "    'user_rating': float32,\n",
      "    'user_zip_code': string,\n",
      "})\n"
     ]
    }
   ],
   "source": [
    "df = tfds.as_dataframe(ratings.take(100000), ratings_info)\n",
    "print(ratings_info.features)"
   ],
   "metadata": {
    "collapsed": false
   }
  },
  {
   "cell_type": "code",
   "execution_count": 7,
   "outputs": [
    {
     "data": {
      "text/plain": "   bucketized_user_age    movie_genres movie_id  \\\n0                 45.0             [7]   b'357'   \n1                 25.0         [4, 14]   b'709'   \n2                 18.0             [4]   b'412'   \n3                 50.0          [5, 7]    b'56'   \n4                 50.0        [10, 16]   b'895'   \n5                 18.0         [7, 16]   b'325'   \n6                 18.0   [2, 3, 4, 12]    b'95'   \n7                 25.0      [0, 5, 14]    b'92'   \n8                 25.0             [4]   b'425'   \n9                 25.0  [0, 1, 15, 18]   b'271'   \n\n                                 movie_title  raw_user_age  timestamp  \\\n0  b\"One Flew Over the Cuckoo's Nest (1975)\"          46.0  879024327   \n1                b'Strictly Ballroom (1992)'          32.0  875654590   \n2             b'Very Brady Sequel, A (1996)'          24.0  882075110   \n3                     b'Pulp Fiction (1994)'          50.0  883326919   \n4                         b'Scream 2 (1997)'          55.0  891409199   \n5                            b'Crash (1996)'          19.0  876346551   \n6                          b'Aladdin (1992)'          19.0  882064434   \n7                     b'True Romance (1993)'          34.0  875135363   \n8                      b'Bob Roberts (1992)'          27.0  880844102   \n9                b'Starship Troopers (1997)'          32.0  884801053   \n\n   user_gender user_id  user_occupation_label user_occupation_text  \\\n0         True  b'138'                      4            b'doctor'   \n1         True   b'92'                      5     b'entertainment'   \n2         True  b'301'                     17           b'student'   \n3         True   b'60'                      4        b'healthcare'   \n4         True  b'197'                     18        b'technician'   \n5        False  b'601'                      1            b'artist'   \n6         True  b'710'                     17           b'student'   \n7         True  b'833'                     21            b'writer'   \n8         True  b'916'                     18          b'engineer'   \n9         True  b'940'                      2     b'administrator'   \n\n   user_rating user_zip_code  \n0          4.0      b'53211'  \n1          2.0      b'80525'  \n2          4.0      b'55439'  \n3          4.0      b'06472'  \n4          3.0      b'75094'  \n5          4.0      b'99687'  \n6          3.0      b'92020'  \n7          2.0      b'90019'  \n8          5.0      b'N2L5N'  \n9          2.0      b'02215'  ",
      "text/html": "<div>\n<style scoped>\n    .dataframe tbody tr th:only-of-type {\n        vertical-align: middle;\n    }\n\n    .dataframe tbody tr th {\n        vertical-align: top;\n    }\n\n    .dataframe thead th {\n        text-align: right;\n    }\n</style>\n<table border=\"1\" class=\"dataframe\">\n  <thead>\n    <tr style=\"text-align: right;\">\n      <th></th>\n      <th>bucketized_user_age</th>\n      <th>movie_genres</th>\n      <th>movie_id</th>\n      <th>movie_title</th>\n      <th>raw_user_age</th>\n      <th>timestamp</th>\n      <th>user_gender</th>\n      <th>user_id</th>\n      <th>user_occupation_label</th>\n      <th>user_occupation_text</th>\n      <th>user_rating</th>\n      <th>user_zip_code</th>\n    </tr>\n  </thead>\n  <tbody>\n    <tr>\n      <th>0</th>\n      <td>45.0</td>\n      <td>[7]</td>\n      <td>b'357'</td>\n      <td>b\"One Flew Over the Cuckoo's Nest (1975)\"</td>\n      <td>46.0</td>\n      <td>879024327</td>\n      <td>True</td>\n      <td>b'138'</td>\n      <td>4</td>\n      <td>b'doctor'</td>\n      <td>4.0</td>\n      <td>b'53211'</td>\n    </tr>\n    <tr>\n      <th>1</th>\n      <td>25.0</td>\n      <td>[4, 14]</td>\n      <td>b'709'</td>\n      <td>b'Strictly Ballroom (1992)'</td>\n      <td>32.0</td>\n      <td>875654590</td>\n      <td>True</td>\n      <td>b'92'</td>\n      <td>5</td>\n      <td>b'entertainment'</td>\n      <td>2.0</td>\n      <td>b'80525'</td>\n    </tr>\n    <tr>\n      <th>2</th>\n      <td>18.0</td>\n      <td>[4]</td>\n      <td>b'412'</td>\n      <td>b'Very Brady Sequel, A (1996)'</td>\n      <td>24.0</td>\n      <td>882075110</td>\n      <td>True</td>\n      <td>b'301'</td>\n      <td>17</td>\n      <td>b'student'</td>\n      <td>4.0</td>\n      <td>b'55439'</td>\n    </tr>\n    <tr>\n      <th>3</th>\n      <td>50.0</td>\n      <td>[5, 7]</td>\n      <td>b'56'</td>\n      <td>b'Pulp Fiction (1994)'</td>\n      <td>50.0</td>\n      <td>883326919</td>\n      <td>True</td>\n      <td>b'60'</td>\n      <td>4</td>\n      <td>b'healthcare'</td>\n      <td>4.0</td>\n      <td>b'06472'</td>\n    </tr>\n    <tr>\n      <th>4</th>\n      <td>50.0</td>\n      <td>[10, 16]</td>\n      <td>b'895'</td>\n      <td>b'Scream 2 (1997)'</td>\n      <td>55.0</td>\n      <td>891409199</td>\n      <td>True</td>\n      <td>b'197'</td>\n      <td>18</td>\n      <td>b'technician'</td>\n      <td>3.0</td>\n      <td>b'75094'</td>\n    </tr>\n    <tr>\n      <th>5</th>\n      <td>18.0</td>\n      <td>[7, 16]</td>\n      <td>b'325'</td>\n      <td>b'Crash (1996)'</td>\n      <td>19.0</td>\n      <td>876346551</td>\n      <td>False</td>\n      <td>b'601'</td>\n      <td>1</td>\n      <td>b'artist'</td>\n      <td>4.0</td>\n      <td>b'99687'</td>\n    </tr>\n    <tr>\n      <th>6</th>\n      <td>18.0</td>\n      <td>[2, 3, 4, 12]</td>\n      <td>b'95'</td>\n      <td>b'Aladdin (1992)'</td>\n      <td>19.0</td>\n      <td>882064434</td>\n      <td>True</td>\n      <td>b'710'</td>\n      <td>17</td>\n      <td>b'student'</td>\n      <td>3.0</td>\n      <td>b'92020'</td>\n    </tr>\n    <tr>\n      <th>7</th>\n      <td>25.0</td>\n      <td>[0, 5, 14]</td>\n      <td>b'92'</td>\n      <td>b'True Romance (1993)'</td>\n      <td>34.0</td>\n      <td>875135363</td>\n      <td>True</td>\n      <td>b'833'</td>\n      <td>21</td>\n      <td>b'writer'</td>\n      <td>2.0</td>\n      <td>b'90019'</td>\n    </tr>\n    <tr>\n      <th>8</th>\n      <td>25.0</td>\n      <td>[4]</td>\n      <td>b'425'</td>\n      <td>b'Bob Roberts (1992)'</td>\n      <td>27.0</td>\n      <td>880844102</td>\n      <td>True</td>\n      <td>b'916'</td>\n      <td>18</td>\n      <td>b'engineer'</td>\n      <td>5.0</td>\n      <td>b'N2L5N'</td>\n    </tr>\n    <tr>\n      <th>9</th>\n      <td>25.0</td>\n      <td>[0, 1, 15, 18]</td>\n      <td>b'271'</td>\n      <td>b'Starship Troopers (1997)'</td>\n      <td>32.0</td>\n      <td>884801053</td>\n      <td>True</td>\n      <td>b'940'</td>\n      <td>2</td>\n      <td>b'administrator'</td>\n      <td>2.0</td>\n      <td>b'02215'</td>\n    </tr>\n  </tbody>\n</table>\n</div>"
     },
     "execution_count": 7,
     "metadata": {},
     "output_type": "execute_result"
    }
   ],
   "source": [
    "df.head(10)"
   ],
   "metadata": {
    "collapsed": false
   }
  },
  {
   "cell_type": "markdown",
   "source": [
    "### Average age of users"
   ],
   "metadata": {
    "collapsed": false
   }
  },
  {
   "cell_type": "markdown",
   "source": [
    "We can get some statistical information out of the dataset."
   ],
   "metadata": {
    "collapsed": false
   }
  },
  {
   "cell_type": "code",
   "execution_count": 8,
   "outputs": [
    {
     "name": "stdout",
     "output_type": "stream",
     "text": [
      "Average age by all people:\n",
      "32.96985\n",
      "Average age of each gender:\n"
     ]
    },
    {
     "data": {
      "text/plain": "<Figure size 640x480 with 1 Axes>",
      "image/png": "[encoded data removed]"
     },
     "metadata": {},
     "output_type": "display_data"
    }
   ],
   "source": [
    "print(\"Average age by all people:\")\n",
    "print(df['raw_user_age'].mean())\n",
    "print(\"Average age of each gender:\")\n",
    "df[['raw_user_age', 'user_gender']].groupby('user_gender').mean()\n",
    "age_hist = df['raw_user_age'].value_counts().sort_index()\n",
    "plt.plot(age_hist)\n",
    "plt.title(\"Age Histogram\")\n",
    "plt.ylabel(\"Numbers\")\n",
    "plt.xlabel(\"Age\")\n",
    "plt.show()"
   ],
   "metadata": {
    "collapsed": false
   }
  },
  {
   "cell_type": "markdown",
   "source": [
    "As you can see in the plot the age of the users is mostly between 20 and 40."
   ],
   "metadata": {
    "collapsed": false
   }
  },
  {
   "cell_type": "markdown",
   "source": [
    "## Prepocessing of the data\n",
    "To simplify our model we will only use the user_id, movie_title and the user_rating from the Dataset."
   ],
   "metadata": {
    "collapsed": false
   }
  },
  {
   "cell_type": "code",
   "execution_count": 9,
   "outputs": [],
   "source": [
    "ratings = ratings.map(lambda x: {\n",
    "    \"movie_title\": x[\"movie_title\"],\n",
    "    \"user_id\": x[\"user_id\"],\n",
    "    \"user_rating\": x[\"user_rating\"],\n",
    "    \"user_zip_code\": x[\"user_zip_code\"]\n",
    "})\n",
    "movies = movies.map(lambda x: x[\"movie_title\"])"
   ],
   "metadata": {
    "collapsed": false
   }
  },
  {
   "cell_type": "markdown",
   "source": [
    "We are shuffling the data of the rating to randomize the learning and to avoid a bias in the train and test data."
   ],
   "metadata": {
    "collapsed": false
   }
  },
  {
   "cell_type": "code",
   "execution_count": 10,
   "outputs": [],
   "source": [
    "tf.random.set_seed(37)\n",
    "shuffled = ratings.shuffle(100_000, seed=37, reshuffle_each_iteration=True)"
   ],
   "metadata": {
    "collapsed": false
   }
  },
  {
   "cell_type": "markdown",
   "source": [
    "We are dividing the dataset in 80 % train data and 20% test data."
   ],
   "metadata": {
    "collapsed": false
   }
  },
  {
   "cell_type": "code",
   "execution_count": 11,
   "outputs": [],
   "source": [
    "train = shuffled.take(80_000)\n",
    "test = shuffled.skip(80_000).take(20_000)"
   ],
   "metadata": {
    "collapsed": false
   }
  },
  {
   "cell_type": "markdown",
   "source": [
    "Now we want to get two lists. The first list unique_movie_titles consists of all the movie titles, but every title is only saved once in the list. The second list unique_user_ids consists of all the users, in the same was as the first. We need those specific lists to set up the size of our network later."
   ],
   "metadata": {
    "collapsed": false
   }
  },
  {
   "cell_type": "code",
   "execution_count": 12,
   "outputs": [
    {
     "name": "stdout",
     "output_type": "stream",
     "text": [
      "First 10 Movie titles: \n",
      "[b\"'Til There Was You (1997)\" b'1-900 (1994)' b'101 Dalmatians (1996)'\n",
      " b'12 Angry Men (1957)' b'187 (1997)' b'2 Days in the Valley (1996)'\n",
      " b'20,000 Leagues Under the Sea (1954)' b'2001: A Space Odyssey (1968)'\n",
      " b'3 Ninjas: High Noon At Mega Mountain (1998)' b'39 Steps, The (1935)']\n",
      "\n",
      "The total count of users:  943\n",
      "The total count of movies:  1664\n"
     ]
    }
   ],
   "source": [
    "movie_titles = movies.batch(1_000)\n",
    "user_ids = ratings.batch(1_000_000).map(lambda y: y[\"user_id\"])\n",
    "user_zip_codes = ratings.batch(1_000_000).map(lambda y: y[\"user_zip_code\"])\n",
    "\n",
    "unique_movie_titles = np.unique(np.concatenate(list(movie_titles)))\n",
    "unique_user_ids = np.unique(np.concatenate(list(user_ids)))\n",
    "unique_user_zip_codes = np.unique(np.concatenate(list(user_zip_codes)))\n",
    "\n",
    "print(\"First 10 Movie titles: \")\n",
    "print(unique_movie_titles[:10])\n",
    "\n",
    "print(\"\\nThe total count of users: \", len(unique_user_ids))\n",
    "print(\"The total count of movies: \", len(unique_movie_titles))"
   ],
   "metadata": {
    "collapsed": false
   }
  },
  {
   "cell_type": "markdown",
   "source": [
    "## Architecture of our model\n",
    "The Goal is to give a ranking of the Dataset. We are building the Class MovielensModel from tfrs.models-Model. This class inherits a network for the user, movie and ratings.\n",
    "\n",
    "user_embeddings and movie_embeddings are both a Sequential model, which turn their specific user_ids or movie_ids into integer in the first layer using StringLookUp and map them over en embedding layer, with the length of the user or movie list and with a specific dimension.\n",
    "\n",
    "When we call our class with the user_id and movie_id as input. The user_embeddings and movie_embedding are calculated via the two networks. With those embeddings as inputs the ratings network processes via a dense layer structure the embeddings to a single number.\n",
    "\n",
    "To compute the loss we are calling the model and compare the ranking with the true number threw the task model, which we inherit from tfrs.model. We measure the loss with MeanSquaredError.\n",
    "\n",
    "The steps in the model are as follows:\n",
    "1. Map user_id to a \"user vector\" via an embedding matrix.\n",
    "2. Map movie_id to a \"movie vector\" via an embedding matrix.\n",
    "3. Compute the ranking via Dense Layers between the user vector and movie vector, to obtain the match score between the user and the movie (predicted rating).\n",
    "4. Train the embeddings via gradient descent using all known user-movie pairs\n"
   ],
   "metadata": {
    "collapsed": false
   }
  },
  {
   "cell_type": "markdown",
   "source": [],
   "metadata": {
    "collapsed": false
   }
  },
  {
   "cell_type": "code",
   "execution_count": 13,
   "outputs": [],
   "source": [
    "class MovielensModel(tfrs.models.Model):\n",
    "\n",
    "    def __init__(self):\n",
    "        super().__init__()\n",
    "        embedding_dimension = 32\n",
    "\n",
    "        # Compute embeddings for users.\n",
    "        self.user_embeddings = tf.keras.Sequential([\n",
    "            tf.keras.layers.StringLookup(\n",
    "                vocabulary=unique_user_ids, mask_token=None),\n",
    "            tf.keras.layers.Embedding(len(unique_user_ids) + 1, embedding_dimension)\n",
    "        ])\n",
    "\n",
    "        # Compute embeddings for movies.\n",
    "        self.movie_embeddings = tf.keras.Sequential([\n",
    "            tf.keras.layers.StringLookup(\n",
    "                vocabulary=unique_movie_titles, mask_token=None),\n",
    "            tf.keras.layers.Embedding(len(unique_movie_titles) + 1, embedding_dimension)\n",
    "        ])\n",
    "\n",
    "\n",
    "        # Compute predictions.\n",
    "        self.ratings = tf.keras.Sequential([\n",
    "            # Learn multiple dense layers.\n",
    "            tf.keras.layers.Dense(256, activation=\"relu\"),\n",
    "            tf.keras.layers.Dense(64, activation=\"relu\"),\n",
    "            # Make rating predictions in the final layer.\n",
    "            tf.keras.layers.Dense(1)\n",
    "        ])\n",
    "\n",
    "        self.task: tf.keras.layers.Layer = tfrs.tasks.Ranking(\n",
    "            loss=tf.keras.losses.MeanSquaredError(),\n",
    "            metrics=[tf.keras.metrics.RootMeanSquaredError()]\n",
    "        )\n",
    "\n",
    "    def call(self, features: Dict[str, tf.Tensor]) -> tf.Tensor:\n",
    "        user_id = features[\"user_id\"]\n",
    "        movie_title = features[\"movie_title\"]\n",
    "        user_embedding = self.user_embeddings(user_id)\n",
    "        movie_embedding = self.movie_embeddings(movie_title)\n",
    "        return self.ratings(tf.concat([user_embedding, movie_embedding], axis=1))\n",
    "\n",
    "    def compute_loss(self, features: Dict[Text, tf.Tensor], training=False) -> tf.Tensor:\n",
    "        labels = features.pop(\"user_rating\")\n",
    "        rating_predictions = self(features)\n",
    "        # The task computes the loss and the metrics.\n",
    "        return self.task(labels=labels, predictions=rating_predictions)\n",
    "\n",
    "    def couple_movie_recommendation(self, user_id_1, user_id_2, user_weight_1, user_weight_2, movie_list, movie_recommendation_quantity):\n",
    "        test_ratings_1 = {}\n",
    "        test_ratings_2 = {}\n",
    "        test_ratings_combined = {}\n",
    "        for movie_title in movie_list:\n",
    "            test_ratings_1[movie_title] = self({\n",
    "                \"user_id\": user_id_1,\n",
    "                \"movie_title\": np.array([movie_title])\n",
    "            })\n",
    "            test_ratings_2[movie_title] = self({\n",
    "                \"user_id\": user_id_2,\n",
    "                \"movie_title\": np.array([movie_title])\n",
    "            })\n",
    "            test_ratings_combined[movie_title] = (test_ratings_1[movie_title] * user_weight_1 + test_ratings_2[movie_title] * user_weight_2) / (user_weight_1 + user_weight_2)\n",
    "\n",
    "        test_ratings_combined = sorted(test_ratings_combined.items(), key=lambda x: x[1], reverse=True)\n",
    "        print(\"Recommendation for the two users: \\n\")\n",
    "        for title, score in test_ratings_combined[:movie_recommendation_quantity]:\n",
    "            print(f\"{title}: {score}\")\n"
   ],
   "metadata": {
    "collapsed": false
   }
  },
  {
   "cell_type": "markdown",
   "source": [
    "The best function of this network is surely the couple_movie_recommendation. In this method we go threw the movie list and calculate for each movie the ranking for both users. We take those rankings and calculate the average. In the calculation we weigh each ranking with an integer to specify, which interests are more important.\n",
    "To show our results we print a sorted list with the highest ranked movies."
   ],
   "metadata": {
    "collapsed": false
   }
  },
  {
   "cell_type": "markdown",
   "source": [
    "## Building our model\n",
    "We are getting an instance of the MovielensModel Class and compile it with the Adagrad optimizer"
   ],
   "metadata": {
    "collapsed": false
   }
  },
  {
   "cell_type": "code",
   "execution_count": 14,
   "outputs": [],
   "source": [
    "model = MovielensModel()\n",
    "model.compile(optimizer=tf.keras.optimizers.Adam(learning_rate=0.01))"
   ],
   "metadata": {
    "collapsed": false
   }
  },
  {
   "cell_type": "markdown",
   "source": [
    "To fit the model, we input the train and test data and the number of epochs"
   ],
   "metadata": {
    "collapsed": false
   }
  },
  {
   "cell_type": "code",
   "execution_count": 15,
   "outputs": [
    {
     "name": "stdout",
     "output_type": "stream",
     "text": [
      "Epoch 1/10\n",
      "20/20 [==============================] - 4s 106ms/step - root_mean_squared_error: 1.8445 - loss: 3.2393 - regularization_loss: 0.0000e+00 - total_loss: 3.2393 - val_root_mean_squared_error: 0.9824 - val_loss: 0.9555 - val_regularization_loss: 0.0000e+00 - val_total_loss: 0.9555\n",
      "Epoch 2/10\n",
      "20/20 [==============================] - 0s 23ms/step - root_mean_squared_error: 0.9943 - loss: 0.9801 - regularization_loss: 0.0000e+00 - total_loss: 0.9801 - val_root_mean_squared_error: 0.9349 - val_loss: 0.8747 - val_regularization_loss: 0.0000e+00 - val_total_loss: 0.8747\n",
      "Epoch 3/10\n",
      "20/20 [==============================] - 0s 22ms/step - root_mean_squared_error: 0.9405 - loss: 0.8835 - regularization_loss: 0.0000e+00 - total_loss: 0.8835 - val_root_mean_squared_error: 0.9258 - val_loss: 0.8541 - val_regularization_loss: 0.0000e+00 - val_total_loss: 0.8541\n",
      "Epoch 4/10\n",
      "20/20 [==============================] - 0s 20ms/step - root_mean_squared_error: 0.9249 - loss: 0.8551 - regularization_loss: 0.0000e+00 - total_loss: 0.8551 - val_root_mean_squared_error: 0.9145 - val_loss: 0.8413 - val_regularization_loss: 0.0000e+00 - val_total_loss: 0.8413\n",
      "Epoch 5/10\n",
      "20/20 [==============================] - 0s 22ms/step - root_mean_squared_error: 0.9176 - loss: 0.8410 - regularization_loss: 0.0000e+00 - total_loss: 0.8410 - val_root_mean_squared_error: 0.9092 - val_loss: 0.8341 - val_regularization_loss: 0.0000e+00 - val_total_loss: 0.8341\n",
      "Epoch 6/10\n",
      "20/20 [==============================] - 0s 21ms/step - root_mean_squared_error: 0.9104 - loss: 0.8273 - regularization_loss: 0.0000e+00 - total_loss: 0.8273 - val_root_mean_squared_error: 0.9022 - val_loss: 0.8212 - val_regularization_loss: 0.0000e+00 - val_total_loss: 0.8212\n",
      "Epoch 7/10\n",
      "20/20 [==============================] - 0s 21ms/step - root_mean_squared_error: 0.9004 - loss: 0.8083 - regularization_loss: 0.0000e+00 - total_loss: 0.8083 - val_root_mean_squared_error: 0.8934 - val_loss: 0.8027 - val_regularization_loss: 0.0000e+00 - val_total_loss: 0.8027\n",
      "Epoch 8/10\n",
      "20/20 [==============================] - 0s 20ms/step - root_mean_squared_error: 0.8887 - loss: 0.7862 - regularization_loss: 0.0000e+00 - total_loss: 0.7862 - val_root_mean_squared_error: 0.8830 - val_loss: 0.7873 - val_regularization_loss: 0.0000e+00 - val_total_loss: 0.7873\n",
      "Epoch 9/10\n",
      "20/20 [==============================] - 0s 21ms/step - root_mean_squared_error: 0.8765 - loss: 0.7636 - regularization_loss: 0.0000e+00 - total_loss: 0.7636 - val_root_mean_squared_error: 0.8707 - val_loss: 0.7691 - val_regularization_loss: 0.0000e+00 - val_total_loss: 0.7691\n",
      "Epoch 10/10\n",
      "20/20 [==============================] - 0s 21ms/step - root_mean_squared_error: 0.8633 - loss: 0.7400 - regularization_loss: 0.0000e+00 - total_loss: 0.7400 - val_root_mean_squared_error: 0.8623 - val_loss: 0.7581 - val_regularization_loss: 0.0000e+00 - val_total_loss: 0.7581\n"
     ]
    }
   ],
   "source": [
    "cached_train = train.shuffle(100_000).batch(4096).cache()\n",
    "cached_test = test.batch(2048).cache()\n",
    "history = model.fit(cached_train, epochs=10, validation_data=cached_test)"
   ],
   "metadata": {
    "collapsed": false
   }
  },
  {
   "cell_type": "markdown",
   "source": [
    "## Evaluating our model\n",
    "After we fitted the model, we can see how the loss and the val_loss developed over the epochs. Another good metric is the error which we can see in the second plot."
   ],
   "metadata": {
    "collapsed": false
   }
  },
  {
   "cell_type": "code",
   "execution_count": 16,
   "outputs": [
    {
     "data": {
      "text/plain": "<Figure size 640x480 with 1 Axes>",
      "image/png": "[encoded data removed]"
     },
     "metadata": {},
     "output_type": "display_data"
    },
    {
     "data": {
      "text/plain": "<Figure size 640x480 with 1 Axes>",
      "image/png": "[encoded data removed]"
     },
     "metadata": {},
     "output_type": "display_data"
    }
   ],
   "source": [
    "plt.plot(history.history[\"loss\"])\n",
    "plt.plot(history.history[\"val_loss\"])\n",
    "plt.title(\"model loss\")\n",
    "plt.ylabel(\"loss\")\n",
    "plt.xlabel(\"epoch\")\n",
    "plt.legend([\"train\", \"test\"], loc=\"upper left\")\n",
    "plt.show()\n",
    "\n",
    "plt.plot(history.history[\"root_mean_squared_error\"])\n",
    "plt.plot(history.history[\"val_root_mean_squared_error\"])\n",
    "plt.title(\"model error\")\n",
    "plt.ylabel(\"error\")\n",
    "plt.xlabel(\"epoch\")\n",
    "plt.legend([\"train\", \"test\"], loc=\"upper left\")\n",
    "plt.show()"
   ],
   "metadata": {
    "collapsed": false
   }
  },
  {
   "cell_type": "markdown",
   "source": [
    "At the end we have an error of:"
   ],
   "metadata": {
    "collapsed": false
   }
  },
  {
   "cell_type": "code",
   "execution_count": 17,
   "outputs": [
    {
     "name": "stdout",
     "output_type": "stream",
     "text": [
      "10/10 [==============================] - 0s 5ms/step - root_mean_squared_error: 0.8623 - loss: 0.7452 - regularization_loss: 0.0000e+00 - total_loss: 0.7452\n",
      "Ranking RMSE: 0.862.\n"
     ]
    }
   ],
   "source": [
    "metrics = model.evaluate(cached_test, return_dict=True)\n",
    "\n",
    "print(f\"Ranking RMSE: {metrics['root_mean_squared_error']:.3f}.\")"
   ],
   "metadata": {
    "collapsed": false
   }
  },
  {
   "cell_type": "markdown",
   "source": [
    "## Movie recommendation for couples\n",
    "We can get a list of ranked movie, if we insert the users and their weights with a list of potential movies."
   ],
   "metadata": {
    "collapsed": false
   }
  },
  {
   "cell_type": "code",
   "execution_count": 18,
   "outputs": [
    {
     "name": "stdout",
     "output_type": "stream",
     "text": [
      "Recommendation for the two users: \n",
      "\n",
      "b'Santa with Muscles (1996)': [[5.3104076]]\n",
      "b'Prefontaine (1997)': [[5.024466]]\n",
      "b'Anna (1996)': [[5.005751]]\n",
      "b'Slingshot, The (1993)': [[4.9342194]]\n",
      "b'Great Day in Harlem, A (1994)': [[4.916161]]\n",
      "b'Nico Icon (1995)': [[4.8754926]]\n",
      "b'Whole Wide World, The (1996)': [[4.8129]]\n",
      "b'Window to Paris (1994)': [[4.803491]]\n",
      "b'Casablanca (1942)': [[4.773784]]\n",
      "b'Damsel in Distress, A (1937)': [[4.7682076]]\n",
      "b'Boys, Les (1997)': [[4.661148]]\n",
      "b'Butcher Boy, The (1998)': [[4.6155763]]\n",
      "b'Before the Rain (Pred dozhdot) (1994)': [[4.5908246]]\n",
      "b'Stonewall (1995)': [[4.5753207]]\n",
      "b'Flirt (1995)': [[4.5350966]]\n",
      "b'World of Apu, The (Apur Sansar) (1959)': [[4.519994]]\n",
      "b'High Noon (1952)': [[4.441541]]\n",
      "b'Great Dictator, The (1940)': [[4.4163003]]\n",
      "b\"It's a Wonderful Life (1946)\": [[4.41394]]\n",
      "b'To Live (Huozhe) (1994)': [[4.412788]]\n",
      "b'Man Who Would Be King, The (1975)': [[4.4007177]]\n",
      "b'When Night Is Falling (1995)': [[4.398766]]\n",
      "b'Stalker (1979)': [[4.395106]]\n",
      "b'Beautiful Thing (1996)': [[4.3764863]]\n",
      "b'Dangerous Beauty (1998)': [[4.373017]]\n",
      "b'Raise the Red Lantern (1991)': [[4.363914]]\n",
      "b'Marlene Dietrich: Shadow and Light (1996) ': [[4.357191]]\n",
      "b'Braindead (1992)': [[4.350813]]\n",
      "b'Vanya on 42nd Street (1994)': [[4.34571]]\n",
      "b'Mondo (1996)': [[4.3304024]]\n"
     ]
    }
   ],
   "source": [
    "user_1 = np.array([\"42\"])\n",
    "user_2 = np.array([\"72\"])\n",
    "user_1_weight = 5\n",
    "user_2_weight = 1\n",
    "test_movie_titles, ind = np.unique(np.concatenate(list(movie_titles)), return_index=True)\n",
    "test = test_movie_titles[np.argsort(ind)]\n",
    "\n",
    "model.couple_movie_recommendation(user_1, user_2, user_1_weight, user_2_weight, test[:500], 30)"
   ],
   "metadata": {
    "collapsed": false
   }
  },
  {
   "cell_type": "markdown",
   "source": [
    "## Outlook\n",
    "This code example is a good description of how networks can be fitted for practical situations. The concept of dividing the network into movie and user was a good idea, but right now there are less input features. This model has still a bad loss and high error rate and tends to overfit.\n",
    "Next steps to proceed would be the intergration of the user and movie information into the model and after that a more specific adjusting of the parameters (even adding regularizers) to stop overfitting."
   ],
   "metadata": {
    "collapsed": false
   }
  }
 ],
 "metadata": {
  "kernelspec": {
   "display_name": "Python 3",
   "language": "python",
   "name": "python3"
  },
  "language_info": {
   "codemirror_mode": {
    "name": "ipython",
    "version": 2
   },
   "file_extension": ".py",
   "mimetype": "text/x-python",
   "name": "python",
   "nbconvert_exporter": "python",
   "pygments_lexer": "ipython2",
   "version": "2.7.6"
  }
 },
 "nbformat": 4,
 "nbformat_minor": 0
}
