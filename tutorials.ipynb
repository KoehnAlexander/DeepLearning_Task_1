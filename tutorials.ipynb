{
 "cells": [
  {
   "cell_type": "markdown",
   "source": [
    "# Summary of tutorials\n",
    "## Tutorial 1\n",
    "In Tutorial 1, a separate neural network was first created. Due to the restriction to one neuron, the clarity could be increased and the tracking of the weight adjustment could be understood. In the second step, concepts of regularization were introduced. These are there to avoid overtraining the network in complex neural networks. In simplified terms, this means that the network learns the training data by heart and does not draw any generalized learning conclusions from the training.\n",
    "## Tutorial 2\n",
    "In Tutorial 2, the use of a pre-trained neural network for a specific task was clearly explained. A network trained with a large dataset was imported and its weights fixed. The last layer has been swapped with its own to make the mesh fit for the specific task. By using pre-trained networks, the network requires low test runs in order to achieve high-performance results.\n",
    "## Tutorial 3\n",
    "In Tutorial 3, a U-Net model was built with the help of Keras in order to find properties on images. The convolutional layers and max-pool layers treated in the lesson were used to first reduce the image and develop properties, in order to return to the original image format with the properties and direct information from the same level in the second half of the network come.\n"
   ],
   "metadata": {
    "collapsed": false
   }
  }
 ],
 "metadata": {
  "kernelspec": {
   "display_name": "Python 3",
   "language": "python",
   "name": "python3"
  },
  "language_info": {
   "codemirror_mode": {
    "name": "ipython",
    "version": 2
   },
   "file_extension": ".py",
   "mimetype": "text/x-python",
   "name": "python",
   "nbconvert_exporter": "python",
   "pygments_lexer": "ipython2",
   "version": "2.7.6"
  }
 },
 "nbformat": 4,
 "nbformat_minor": 0
}
